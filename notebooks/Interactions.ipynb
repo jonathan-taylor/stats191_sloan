{
 "metadata": {
  "name": "Interactions"
 },
 "nbformat": 3,
 "nbformat_minor": 0,
 "worksheets": [
  {
   "cells": [
    {
     "cell_type": "heading",
     "level": 2,
     "metadata": {},
     "source": [
      "Interactions & ANOVA"
     ]
    },
    {
     "cell_type": "markdown",
     "metadata": {},
     "source": [
      "Download the [slides](restricted/notes/interactions.pdf) and/or the [ipython notebook](notebooks/Interactions.ipynb)."
     ]
    },
    {
     "cell_type": "heading",
     "level": 3,
     "metadata": {},
     "source": [
      "Salary example"
     ]
    },
    {
     "cell_type": "code",
     "collapsed": false,
     "input": [
      "%load_ext course_modules.knitr_extension\n"
     ],
     "language": "python",
     "metadata": {},
     "outputs": [],
     "prompt_number": 1
    },
    {
     "cell_type": "code",
     "collapsed": false,
     "input": [
      "%%knitr\n",
      "url = 'http://stats191.stanford.edu/data/salary.table'\n",
      "\n",
      "salary.table <- read.table(url, header=T)\n",
      "salary.table$E <- factor(salary.table$E)\n",
      "salary.table$M <- factor(salary.table$M)\n",
      "attach(salary.table)"
     ],
     "language": "python",
     "metadata": {},
     "outputs": [
      {
       "output_type": "display_data",
       "text": [
        "    url = \"http://stats191.stanford.edu/data/salary.table\"\n",
        "    \n",
        "    salary.table <- read.table(url, header = T)\n",
        "    salary.table$E <- factor(salary.table$E)\n",
        "    salary.table$M <- factor(salary.table$M)\n",
        "    attach(salary.table)\n",
        "\u0000"
       ]
      }
     ],
     "prompt_number": 2
    },
    {
     "cell_type": "markdown",
     "metadata": {},
     "source": [
      "Let's take a look at the data"
     ]
    },
    {
     "cell_type": "code",
     "collapsed": false,
     "input": [
      "%%knitr\n",
      "\n",
      "# triangles for management, diamonds for non-management\n",
      "# red for education=0, green for education=1, blue for education=2\n",
      "\n",
      "plot(X,S, type='n', xlab='Experience', ylab='Salary')\n",
      "colors <- c('red', 'green', 'blue')\n",
      "symbols <- c(23,24)\n",
      "for (i in 1:3) {\n",
      "    for (j in 0:1) {\n",
      "        subset <- as.logical((E == i) * (M == j))\n",
      "        points(X[subset], S[subset], pch=symbols[j+1], bg=colors[i], cex=2)\n",
      "    }\n",
      "}"
     ],
     "language": "python",
     "metadata": {},
     "outputs": [
      {
       "output_type": "display_data",
       "text": [
        "    # triangles for management, diamonds for non-management red for\n",
        "    # education=0, green for education=1, blue for education=2\n",
        "    \n",
        "    plot(X, S, type = \"n\", xlab = \"Experience\", ylab = \"Salary\")\n",
        "    colors <- c(\"red\", \"green\", \"blue\")\n",
        "    symbols <- c(23, 24)\n",
        "    for (i in 1:3) {\n",
        "        for (j in 0:1) {\n",
        "            subset <- as.logical((E == i) * (M == j))\n",
        "            points(X[subset], S[subset], pch = symbols[j + 1], bg = colors[i], cex = 2)\n",
        "        }\n",
        "    }\n",
        "\u0000"
       ]
      },
      {
       "output_type": "display_data",
       "png": "[encoded data removed]"
      }
     ],
     "prompt_number": 3
    },
    {
     "cell_type": "markdown",
     "metadata": {},
     "source": [
      "Fit a linear model"
     ]
    },
    {
     "cell_type": "code",
     "collapsed": false,
     "input": [
      "%%knitr\n",
      "\n",
      "salary.lm <- lm(S ~ E + M + X)\n",
      "summary(salary.lm)\n",
      "\n",
      "# the design matrix\n",
      "model.matrix(salary.lm)[1:20,]\n",
      "\n",
      "# the data frame it was based on\n",
      "# we see the 0-1 coding of factors in \n",
      "# the design matrix\n",
      "model.frame(salary.lm)[1:20,]\n",
      "\n",
      "library(car)\n",
      "influence.measures(salary.lm)"
     ],
     "language": "python",
     "metadata": {},
     "outputs": [
      {
       "output_type": "display_data",
       "text": [
        "    salary.lm <- lm(S ~ E + M + X)\n",
        "    summary(salary.lm)\n",
        "\u0000"
       ]
      },
      {
       "output_type": "display_data",
       "text": [
        "    ## \n",
        "    ## Call:\n",
        "    ## lm(formula = S ~ E + M + X)\n",
        "    ## \n",
        "    ## Residuals:\n",
        "    ##     Min      1Q  Median      3Q     Max \n",
        "    ## -1884.6  -653.6    22.2   844.9  1716.5 \n",
        "    ## \n",
        "    ## Coefficients:\n",
        "    ##             Estimate Std. Error t value Pr(>|t|)    \n",
        "    ## (Intercept)   8035.6      386.7   20.78  < 2e-16 ***\n",
        "    ## E2            3144.0      362.0    8.69  7.7e-11 ***\n",
        "    ## E3            2996.2      411.8    7.28  6.7e-09 ***\n",
        "    ## M1            6883.5      313.9   21.93  < 2e-16 ***\n",
        "    ## X              546.2       30.5   17.90  < 2e-16 ***\n",
        "    ## ---\n",
        "    ## Signif. codes:  0 '***' 0.001 '**' 0.01 '*' 0.05 '.' 0.1 ' ' 1 \n",
        "    ## \n",
        "    ## Residual standard error: 1030 on 41 degrees of freedom\n",
        "    ## Multiple R-squared: 0.957,\tAdjusted R-squared: 0.953 \n",
        "    ## F-statistic:  227 on 4 and 41 DF,  p-value: <2e-16\n",
        "\u0000"
       ]
      },
      {
       "output_type": "display_data",
       "text": [
        "    \n",
        "    # the design matrix\n",
        "    model.matrix(salary.lm)[1:20, ]\n",
        "\u0000"
       ]
      },
      {
       "output_type": "display_data",
       "text": [
        "    ##    (Intercept) E2 E3 M1 X\n",
        "    ## 1            1  0  0  1 1\n",
        "    ## 2            1  0  1  0 1\n",
        "    ## 3            1  0  1  1 1\n",
        "    ## 4            1  1  0  0 1\n",
        "    ## 5            1  0  1  0 1\n",
        "    ## 6            1  1  0  1 2\n",
        "    ## 7            1  1  0  0 2\n",
        "    ## 8            1  0  0  0 2\n",
        "    ## 9            1  0  1  0 2\n",
        "    ## 10           1  1  0  0 3\n",
        "    ## 11           1  0  0  1 3\n",
        "    ## 12           1  1  0  1 3\n",
        "    ## 13           1  0  1  1 3\n",
        "    ## 14           1  0  0  0 4\n",
        "    ## 15           1  0  1  1 4\n",
        "    ## 16           1  0  1  0 4\n",
        "    ## 17           1  1  0  0 4\n",
        "    ## 18           1  1  0  0 5\n",
        "    ## 19           1  0  1  0 5\n",
        "    ## 20           1  0  0  1 5\n",
        "\u0000"
       ]
      },
      {
       "output_type": "display_data",
       "text": [
        "    \n",
        "    # the data frame it was based on we see the 0-1 coding of factors in the\n",
        "    # design matrix\n",
        "    model.frame(salary.lm)[1:20, ]\n",
        "\u0000"
       ]
      },
      {
       "output_type": "display_data",
       "text": [
        "    ##        S E M X\n",
        "    ## 1  13876 1 1 1\n",
        "    ## 2  11608 3 0 1\n",
        "    ## 3  18701 3 1 1\n",
        "    ## 4  11283 2 0 1\n",
        "    ## 5  11767 3 0 1\n",
        "    ## 6  20872 2 1 2\n",
        "    ## 7  11772 2 0 2\n",
        "    ## 8  10535 1 0 2\n",
        "    ## 9  12195 3 0 2\n",
        "    ## 10 12313 2 0 3\n",
        "    ## 11 14975 1 1 3\n",
        "    ## 12 21371 2 1 3\n",
        "    ## 13 19800 3 1 3\n",
        "    ## 14 11417 1 0 4\n",
        "    ## 15 20263 3 1 4\n",
        "    ## 16 13231 3 0 4\n",
        "    ## 17 12884 2 0 4\n",
        "    ## 18 13245 2 0 5\n",
        "    ## 19 13677 3 0 5\n",
        "    ## 20 15965 1 1 5\n",
        "\u0000"
       ]
      },
      {
       "output_type": "display_data",
       "text": [
        "    \n",
        "    library(car)\n",
        "\u0000"
       ]
      },
      {
       "output_type": "display_data",
       "text": [
        "    ## Warning: package 'car' was built under R version 2.15.1\n",
        "\u0000"
       ]
      },
      {
       "output_type": "display_data",
       "text": [
        "    ## Loading required package: MASS\n",
        "\u0000"
       ]
      },
      {
       "output_type": "display_data",
       "text": [
        "    ## Loading required package: nnet\n",
        "\u0000"
       ]
      },
      {
       "output_type": "display_data",
       "text": [
        "    influence.measures(salary.lm)\n",
        "\u0000"
       ]
      },
      {
       "output_type": "display_data",
       "text": [
        "    ## Influence measures of\n",
        "    ## \t lm(formula = S ~ E + M + X) :\n",
        "    ## \n",
        "    ##       dfb.1_    dfb.E2   dfb.E3   dfb.M1     dfb.X   dffit cov.r   cook.d\n",
        "    ## 1  -0.505123  3.76e-01  0.48398 -0.36968  0.399111 -0.7389 0.936 1.04e-01\n",
        "    ## 2   0.004663  1.45e-04  0.00673 -0.00622 -0.004449  0.0120 1.301 2.94e-05\n",
        "    ## 3   0.013627  3.67e-04  0.03688  0.03051 -0.034970  0.0854 1.260 1.49e-03\n",
        "    ## 4  -0.083152 -7.44e-02  0.00970  0.05378  0.105122 -0.1618 1.243 5.34e-03\n",
        "    ## 5   0.029382  9.17e-04  0.04243 -0.03920 -0.028036  0.0754 1.295 1.17e-03\n",
        "    ## 6   0.129507  2.97e-01 -0.14701  0.38072 -0.373271  0.6976 0.863 9.20e-02\n",
        "    ## 7  -0.082466 -8.26e-02  0.00773  0.06001  0.101245 -0.1704 1.219 5.91e-03\n",
        "    ## 8   0.531802 -3.12e-01 -0.30191 -0.17052 -0.286262  0.5366 0.982 5.60e-02\n",
        "    ## 9   0.009437  2.97e-04  0.01621 -0.01457 -0.008109  0.0273 1.290 1.52e-04\n",
        "    ## 10 -0.072165 -8.23e-02  0.00464  0.06000  0.085220 -0.1613 1.204 5.30e-03\n",
        "    ## 11 -0.420485  3.67e-01  0.44835 -0.35805  0.278991 -0.6643 0.924 8.44e-02\n",
        "    ## 12  0.088213  2.84e-01 -0.13006  0.36469 -0.301787  0.6404 0.877 7.80e-02\n",
        "    ## 13  0.003822  7.60e-05  0.04039  0.03087 -0.019872  0.0814 1.243 1.36e-03\n",
        "    ## 14  0.390174 -2.59e-01 -0.23468 -0.14128 -0.159468  0.4078 1.041 3.28e-02\n",
        "    ## 15 -0.000773 -4.73e-05  0.02761  0.02033 -0.007967  0.0526 1.243 5.68e-04\n",
        "    ## 16  0.001309  4.23e-05  0.00346 -0.00295 -0.000706  0.0053 1.277 5.77e-06\n",
        "    ## 17 -0.058341 -7.72e-02  0.00146  0.05656  0.065264 -0.1445 1.197 4.26e-03\n",
        "    ## 18 -0.067190 -1.06e-01 -0.00199  0.07806  0.069330 -0.1908 1.157 7.38e-03\n",
        "    ## 19 -0.005975 -1.98e-04 -0.02099  0.01746  0.001422 -0.0312 1.274 1.99e-04\n",
        "    ## 20 -0.369186  3.88e-01  0.44932 -0.37599  0.179758 -0.6588 0.872 8.24e-02\n",
        "    ## 21  0.286238 -2.19e-01 -0.18463 -0.11896 -0.069106  0.3229 1.084 2.08e-02\n",
        "    ## 22 -0.007189 -2.37e-04  0.02893  0.01983  0.002242  0.0509 1.241 5.31e-04\n",
        "    ## 23 -0.049744 -9.74e-02 -0.00553  0.07208  0.044887 -0.1700 1.160 5.87e-03\n",
        "    ## 24 -0.017529  2.52e-01 -0.08757  0.32693 -0.120217  0.5213 0.913 5.23e-02\n",
        "    ## 25 -0.308716  4.06e-01  0.44516 -0.39125  0.068996 -0.6639 0.835 8.30e-02\n",
        "    ## 26 -0.030446 -1.16e-01 -0.01555  0.08696  0.008142 -0.1977 1.130 7.90e-03\n",
        "    ## 27 -0.290625  4.37e-01  0.46550 -0.41971  0.010587 -0.7088 0.784 9.35e-02\n",
        "    ## 28  0.008654  2.71e-04 -0.01961 -0.01257 -0.007794 -0.0332 1.250 2.26e-04\n",
        "    ## 29  0.272903 -2.46e-01 -0.19197 -0.13299 -0.004691  0.3519 1.044 2.46e-02\n",
        "    ## 30  0.191834 -2.09e-01 -0.15075 -0.11289  0.057372  0.3036 1.098 1.84e-02\n",
        "    ## 31 -0.000928 -1.09e-01 -0.02295  0.08181 -0.035466 -0.1888 1.142 7.22e-03\n",
        "    ## 32  0.026040  8.01e-04 -0.04260 -0.02565 -0.028948 -0.0721 1.262 1.06e-03\n",
        "    ## 33 -0.023402  3.96e-02 -0.00777  0.05210  0.012909  0.0820 1.236 1.38e-03\n",
        "    ## 34 -0.153971  2.13e-01 -0.03349  0.28081  0.112898  0.4512 0.990 3.98e-02\n",
        "    ## 35  0.145294 -1.77e-01 -0.12221 -0.09537  0.074309  0.2623 1.142 1.39e-02\n",
        "    ## 36  0.032987 -1.33e-01 -0.03863  0.10115 -0.096958 -0.2485 1.118 1.24e-02\n",
        "    ## 37  0.051857  1.58e-03 -0.06804 -0.03860 -0.063277 -0.1179 1.281 2.84e-03\n",
        "    ## 38  0.118995 -1.89e-01 -0.11911 -0.10145  0.133868  0.2988 1.149 1.80e-02\n",
        "    ## 39 -0.184139  1.86e-01 -0.01469  0.24651  0.175310  0.4221 1.061 3.52e-02\n",
        "    ## 40  0.070419 -1.38e-01 -0.05134  0.10632 -0.157539 -0.2871 1.130 1.66e-02\n",
        "    ## 41  0.105129  3.18e-03 -0.10958 -0.05720 -0.137778 -0.2021 1.329 8.33e-03\n",
        "    ## 42 -0.236148  1.68e-01  0.00681  0.22581  0.265578  0.4412 1.138 3.88e-02\n",
        "    ## 43  0.135088 -1.75e-01 -0.07904  0.13546 -0.271310 -0.4084 1.097 3.32e-02\n",
        "    ## 44  0.056815 -1.64e-01 -0.08866 -0.08747  0.185970  0.2955 1.227 1.77e-02\n",
        "    ## 45  0.187902 -2.07e-01 -0.10227  0.16140 -0.365189 -0.5152 1.050 5.21e-02\n",
        "    ## 46 -0.002263 -9.80e-02 -0.04159 -0.05191  0.165808  0.2143 1.397 9.37e-03\n",
        "    ##       hat inf\n",
        "    ## 1  0.1553    \n",
        "    ## 2  0.1303    \n",
        "    ## 3  0.1090    \n",
        "    ## 4  0.1130    \n",
        "    ## 5  0.1303    \n",
        "    ## 6  0.1259    \n",
        "    ## 7  0.1009    \n",
        "    ## 8  0.1165    \n",
        "    ## 9  0.1232    \n",
        "    ## 10 0.0906    \n",
        "    ## 11 0.1336    \n",
        "    ## 12 0.1155    \n",
        "    ## 13 0.0965    \n",
        "    ## 14 0.0984    \n",
        "    ## 15 0.0929    \n",
        "    ## 16 0.1143    \n",
        "    ## 17 0.0820    \n",
        "    ## 18 0.0752    \n",
        "    ## 19 0.1125    \n",
        "    ## 20 0.1189    \n",
        "    ## 21 0.0873    \n",
        "    ## 22 0.0909    \n",
        "    ## 23 0.0702    \n",
        "    ## 24 0.0949    \n",
        "    ## 25 0.1112    \n",
        "    ## 26 0.0654    \n",
        "    ## 27 0.1100    \n",
        "    ## 28 0.0960    \n",
        "    ## 29 0.0834    \n",
        "    ## 30 0.0864    \n",
        "    ## 31 0.0677    \n",
        "    ## 32 0.1082    \n",
        "    ## 33 0.0922    \n",
        "    ## 34 0.0959    \n",
        "    ## 35 0.0906    \n",
        "    ## 36 0.0770    \n",
        "    ## 37 0.1274    \n",
        "    ## 38 0.1043    \n",
        "    ## 39 0.1086    \n",
        "    ## 40 0.0934    \n",
        "    ## 41 0.1695    \n",
        "    ## 42 0.1409    \n",
        "    ## 43 0.1169    \n",
        "    ## 44 0.1380    \n",
        "    ## 45 0.1312    \n",
        "    ## 46 0.2077   *\n",
        "\u0000"
       ]
      }
     ],
     "prompt_number": 4
    },
    {
     "cell_type": "code",
     "collapsed": false,
     "input": [
      "%%knitr\n",
      "library(car)\n",
      "outlierTest(salary.lm)"
     ],
     "language": "python",
     "metadata": {},
     "outputs": [
      {
       "output_type": "display_data",
       "text": [
        "    library(car)\n",
        "    outlierTest(salary.lm)\n",
        "\u0000"
       ]
      },
      {
       "output_type": "display_data",
       "text": [
        "    ## \n",
        "    ## No Studentized residuals with Bonferonni p < 0.05\n",
        "    ## Largest |rstudent|:\n",
        "    ##    rstudent unadjusted p-value Bonferonni p\n",
        "    ## 27   -2.016            0.05059           NA\n",
        "\u0000"
       ]
      }
     ],
     "prompt_number": 5
    },
    {
     "cell_type": "markdown",
     "metadata": {},
     "source": [
      "We will now plot the residuals within the groups separately"
     ]
    },
    {
     "cell_type": "code",
     "collapsed": false,
     "input": [
      "%%knitr\n",
      "\n",
      "r = resid(salary.lm)\n",
      "k = 1\n",
      "\n",
      "# this type gives an empty plotting window 'n' for 'none'\n",
      "\n",
      "plot(X, r, xlim=c(1,6), type='n', xlab='Group', ylab='Residuals')\n",
      "\n",
      "for (i in 1:3) {\n",
      "    for (j in 0:1) {\n",
      "        subset <- as.logical((E == i) * (M == j))\n",
      "        points(rep(k, length(r[subset])), r[subset], pch=symbols[j+1], bg=colors[i], cex=2)\n",
      "        k = k+1\n",
      "    }\n",
      "}"
     ],
     "language": "python",
     "metadata": {},
     "outputs": [
      {
       "output_type": "display_data",
       "text": [
        "    r = resid(salary.lm)\n",
        "    k = 1\n",
        "    \n",
        "    # this type gives an empty plotting window 'n' for 'none'\n",
        "    \n",
        "    plot(X, r, xlim = c(1, 6), type = \"n\", xlab = \"Group\", ylab = \"Residuals\")\n",
        "    \n",
        "    for (i in 1:3) {\n",
        "        for (j in 0:1) {\n",
        "            subset <- as.logical((E == i) * (M == j))\n",
        "            points(rep(k, length(r[subset])), r[subset], pch = symbols[j + 1], bg = colors[i], \n",
        "                cex = 2)\n",
        "            k = k + 1\n",
        "        }\n",
        "    }\n",
        "\u0000"
       ]
      },
      {
       "output_type": "display_data",
       "png": "[encoded data removed]"
      }
     ],
     "prompt_number": 6
    },
    {
     "cell_type": "heading",
     "level": 3,
     "metadata": {},
     "source": [
      "Testing for interactions"
     ]
    },
    {
     "cell_type": "markdown",
     "metadata": {},
     "source": [
      "We now fit some models with  two-way interactions. To test for interactions, we can use either *anova* or *f.test.lm* from multiple\n",
      "linear regression."
     ]
    },
    {
     "cell_type": "code",
     "collapsed": false,
     "input": [
      "%%knitr\n",
      "   \n",
      "interactionX.lm <- lm(S ~ E * X + M)\n",
      "summary(interactionX.lm)\n",
      "outlierTest(interactionX.lm)"
     ],
     "language": "python",
     "metadata": {},
     "outputs": [
      {
       "output_type": "display_data",
       "text": [
        "    interactionX.lm <- lm(S ~ E * X + M)\n",
        "    summary(interactionX.lm)\n",
        "\u0000"
       ]
      },
      {
       "output_type": "display_data",
       "text": [
        "    ## \n",
        "    ## Call:\n",
        "    ## lm(formula = S ~ E * X + M)\n",
        "    ## \n",
        "    ## Residuals:\n",
        "    ##     Min      1Q  Median      3Q     Max \n",
        "    ## -2013.0  -634.7   -16.7   615.7  2014.1 \n",
        "    ## \n",
        "    ## Coefficients:\n",
        "    ##             Estimate Std. Error t value Pr(>|t|)    \n",
        "    ## (Intercept)   7256.3      549.5   13.21  5.7e-16 ***\n",
        "    ## E2            4172.5      675.0    6.18  2.9e-07 ***\n",
        "    ## E3            3946.4      686.7    5.75  1.2e-06 ***\n",
        "    ## X              632.3       53.2   11.89  1.5e-14 ***\n",
        "    ## M1            7102.5      333.4   21.30  < 2e-16 ***\n",
        "    ## E2:X          -125.5       69.9   -1.80     0.08 .  \n",
        "    ## E3:X          -141.3       89.3   -1.58     0.12    \n",
        "    ## ---\n",
        "    ## Signif. codes:  0 '***' 0.001 '**' 0.01 '*' 0.05 '.' 0.1 ' ' 1 \n",
        "    ## \n",
        "    ## Residual standard error: 1010 on 39 degrees of freedom\n",
        "    ## Multiple R-squared: 0.961,\tAdjusted R-squared: 0.955 \n",
        "    ## F-statistic:  159 on 6 and 39 DF,  p-value: <2e-16\n",
        "\u0000"
       ]
      },
      {
       "output_type": "display_data",
       "text": [
        "    outlierTest(interactionX.lm)\n",
        "\u0000"
       ]
      },
      {
       "output_type": "display_data",
       "text": [
        "    ## \n",
        "    ## No Studentized residuals with Bonferonni p < 0.05\n",
        "    ## Largest |rstudent|:\n",
        "    ##   rstudent unadjusted p-value Bonferonni p\n",
        "    ## 8     2.39            0.02194           NA\n",
        "\u0000"
       ]
      }
     ],
     "prompt_number": 7
    },
    {
     "cell_type": "markdown",
     "metadata": {},
     "source": [
      "Is there an interaction between education and experience?"
     ]
    },
    {
     "cell_type": "code",
     "collapsed": false,
     "input": [
      "%%knitr\n",
      "anova(salary.lm, interactionX.lm)"
     ],
     "language": "python",
     "metadata": {},
     "outputs": [
      {
       "output_type": "display_data",
       "text": [
        "    anova(salary.lm, interactionX.lm)\n",
        "\u0000"
       ]
      },
      {
       "output_type": "display_data",
       "text": [
        "    ## Analysis of Variance Table\n",
        "    ## \n",
        "    ## Model 1: S ~ E + M + X\n",
        "    ## Model 2: S ~ E * X + M\n",
        "    ##   Res.Df      RSS Df Sum of Sq    F Pr(>F)\n",
        "    ## 1     41 43280719                         \n",
        "    ## 2     39 39410680  2   3870040 1.91   0.16\n",
        "\u0000"
       ]
      }
     ],
     "prompt_number": 8
    },
    {
     "cell_type": "markdown",
     "metadata": {},
     "source": [
      "Is there an interaction between education and management?"
     ]
    },
    {
     "cell_type": "code",
     "collapsed": false,
     "input": [
      "%%knitr\n",
      "interactionM.lm <- lm(S ~ X + E * M)\n",
      "summary(interactionM.lm)\n",
      "anova(salary.lm, interactionM.lm)"
     ],
     "language": "python",
     "metadata": {},
     "outputs": [
      {
       "output_type": "display_data",
       "text": [
        "    interactionM.lm <- lm(S ~ X + E * M)\n",
        "    summary(interactionM.lm)\n",
        "\u0000"
       ]
      },
      {
       "output_type": "display_data",
       "text": [
        "    ## \n",
        "    ## Call:\n",
        "    ## lm(formula = S ~ X + E * M)\n",
        "    ## \n",
        "    ## Residuals:\n",
        "    ##    Min     1Q Median     3Q    Max \n",
        "    ## -928.1  -46.2   24.3   65.9  204.9 \n",
        "    ## \n",
        "    ## Coefficients:\n",
        "    ##             Estimate Std. Error t value Pr(>|t|)    \n",
        "    ## (Intercept)  9472.69      80.34   117.9   <2e-16 ***\n",
        "    ## X             496.99       5.57    89.3   <2e-16 ***\n",
        "    ## E2           1381.67      77.32    17.9   <2e-16 ***\n",
        "    ## E3           1730.75     105.33    16.4   <2e-16 ***\n",
        "    ## M1           3981.38     101.17    39.4   <2e-16 ***\n",
        "    ## E2:M1        4902.52     131.36    37.3   <2e-16 ***\n",
        "    ## E3:M1        3066.04     149.33    20.5   <2e-16 ***\n",
        "    ## ---\n",
        "    ## Signif. codes:  0 '***' 0.001 '**' 0.01 '*' 0.05 '.' 0.1 ' ' 1 \n",
        "    ## \n",
        "    ## Residual standard error: 174 on 39 degrees of freedom\n",
        "    ## Multiple R-squared: 0.999,\tAdjusted R-squared: 0.999 \n",
        "    ## F-statistic: 5.52e+03 on 6 and 39 DF,  p-value: <2e-16\n",
        "\u0000"
       ]
      },
      {
       "output_type": "display_data",
       "text": [
        "    anova(salary.lm, interactionM.lm)\n",
        "\u0000"
       ]
      },
      {
       "output_type": "display_data",
       "text": [
        "    ## Analysis of Variance Table\n",
        "    ## \n",
        "    ## Model 1: S ~ E + M + X\n",
        "    ## Model 2: S ~ X + E * M\n",
        "    ##   Res.Df      RSS Df Sum of Sq   F Pr(>F)    \n",
        "    ## 1     41 43280719                            \n",
        "    ## 2     39  1178168  2  42102552 697 <2e-16 ***\n",
        "    ## ---\n",
        "    ## Signif. codes:  0 '***' 0.001 '**' 0.01 '*' 0.05 '.' 0.1 ' ' 1\n",
        "\u0000"
       ]
      }
     ],
     "prompt_number": 9
    },
    {
     "cell_type": "markdown",
     "metadata": {},
     "source": [
      "The design matrix looks like the original design matrix\n",
      "with new columns formed by taking the product of the\n",
      "original columns."
     ]
    },
    {
     "cell_type": "code",
     "collapsed": false,
     "input": [
      "%%knitr\n",
      "model.matrix(interactionM.lm)[1:20,]\n",
      "\n",
      "                                           "
     ],
     "language": "python",
     "metadata": {},
     "outputs": [
      {
       "output_type": "display_data",
       "text": [
        "    model.matrix(interactionM.lm)[1:20, ]\n",
        "\u0000"
       ]
      },
      {
       "output_type": "display_data",
       "text": [
        "    ##    (Intercept) X E2 E3 M1 E2:M1 E3:M1\n",
        "    ## 1            1 1  0  0  1     0     0\n",
        "    ## 2            1 1  0  1  0     0     0\n",
        "    ## 3            1 1  0  1  1     0     1\n",
        "    ## 4            1 1  1  0  0     0     0\n",
        "    ## 5            1 1  0  1  0     0     0\n",
        "    ## 6            1 2  1  0  1     1     0\n",
        "    ## 7            1 2  1  0  0     0     0\n",
        "    ## 8            1 2  0  0  0     0     0\n",
        "    ## 9            1 2  0  1  0     0     0\n",
        "    ## 10           1 3  1  0  0     0     0\n",
        "    ## 11           1 3  0  0  1     0     0\n",
        "    ## 12           1 3  1  0  1     1     0\n",
        "    ## 13           1 3  0  1  1     0     1\n",
        "    ## 14           1 4  0  0  0     0     0\n",
        "    ## 15           1 4  0  1  1     0     1\n",
        "    ## 16           1 4  0  1  0     0     0\n",
        "    ## 17           1 4  1  0  0     0     0\n",
        "    ## 18           1 5  1  0  0     0     0\n",
        "    ## 19           1 5  0  1  0     0     0\n",
        "    ## 20           1 5  0  0  1     0     0\n",
        "\u0000"
       ]
      }
     ],
     "prompt_number": 10
    },
    {
     "cell_type": "markdown",
     "metadata": {},
     "source": [
      "We will plot the residuals as functions of experience\n",
      "with each *experience* and *management* having a \n",
      "different symbol/color."
     ]
    },
    {
     "cell_type": "code",
     "collapsed": false,
     "input": [
      "%%knitr\n",
      "r = rstandard(interactionM.lm)\n",
      "plot(X, r, type='n')\n",
      "for (i in 1:3) {\n",
      "    for (j in 0:1) {\n",
      "        subset <- as.logical((E == i) * (M == j))\n",
      "        points(X[subset], r[subset], pch=symbols[j+1], bg=colors[i], cex=2)\n",
      "    }\n",
      "}\n",
      "outlierTest(interactionM.lm)"
     ],
     "language": "python",
     "metadata": {},
     "outputs": [
      {
       "output_type": "display_data",
       "text": [
        "    r = rstandard(interactionM.lm)\n",
        "    plot(X, r, type = \"n\")\n",
        "    for (i in 1:3) {\n",
        "        for (j in 0:1) {\n",
        "            subset <- as.logical((E == i) * (M == j))\n",
        "            points(X[subset], r[subset], pch = symbols[j + 1], bg = colors[i], cex = 2)\n",
        "        }\n",
        "    }\n",
        "\u0000"
       ]
      },
      {
       "output_type": "display_data",
       "png": "[encoded data removed]"
      },
      {
       "output_type": "display_data",
       "text": [
        "    outlierTest(interactionM.lm)\n",
        "\u0000"
       ]
      },
      {
       "output_type": "display_data",
       "text": [
        "    ##    rstudent unadjusted p-value Bonferonni p\n",
        "    ## 33   -14.95          1.677e-17    7.714e-16\n",
        "\u0000"
       ]
      }
     ],
     "prompt_number": 11
    },
    {
     "cell_type": "markdown",
     "metadata": {},
     "source": [
      "One observation seems to be an outlier."
     ]
    },
    {
     "cell_type": "code",
     "collapsed": false,
     "input": [
      "%%knitr\n",
      "\n",
      "outlierTest(interactionM.lm)\n",
      "\n",
      "subs33 = c(1:length(S))[-33]\n",
      "\n",
      "salary.lm33 = lm(S ~ E + X + M, subset=subs33)\n",
      "interactionX.lm33 = lm(S ~ E * X + M, subset=subs33)\n",
      "\n",
      "summary(salary.lm33)"
     ],
     "language": "python",
     "metadata": {},
     "outputs": [
      {
       "output_type": "display_data",
       "text": [
        "    outlierTest(interactionM.lm)\n",
        "\u0000"
       ]
      },
      {
       "output_type": "display_data",
       "text": [
        "    ##    rstudent unadjusted p-value Bonferonni p\n",
        "    ## 33   -14.95          1.677e-17    7.714e-16\n",
        "\u0000"
       ]
      },
      {
       "output_type": "display_data",
       "text": [
        "    \n",
        "    subs33 = c(1:length(S))[-33]\n",
        "    \n",
        "    salary.lm33 = lm(S ~ E + X + M, subset = subs33)\n",
        "    interactionX.lm33 = lm(S ~ E * X + M, subset = subs33)\n",
        "    \n",
        "    summary(salary.lm33)\n",
        "\u0000"
       ]
      },
      {
       "output_type": "display_data",
       "text": [
        "    ## \n",
        "    ## Call:\n",
        "    ## lm(formula = S ~ E + X + M, subset = subs33)\n",
        "    ## \n",
        "    ## Residuals:\n",
        "    ##     Min      1Q  Median      3Q     Max \n",
        "    ## -1874.0  -658.2     3.7   850.0  1739.2 \n",
        "    ## \n",
        "    ## Coefficients:\n",
        "    ##             Estimate Std. Error t value Pr(>|t|)    \n",
        "    ## (Intercept)   8044.8      392.8   20.48   <2e-16 ***\n",
        "    ## E2            3129.5      370.5    8.45    2e-10 ***\n",
        "    ## E3            2999.4      416.7    7.20    1e-08 ***\n",
        "    ## X              545.8       30.9   17.66   <2e-16 ***\n",
        "    ## M1            6867.0      324.0   21.19   <2e-16 ***\n",
        "    ## ---\n",
        "    ## Signif. codes:  0 '***' 0.001 '**' 0.01 '*' 0.05 '.' 0.1 ' ' 1 \n",
        "    ## \n",
        "    ## Residual standard error: 1040 on 40 degrees of freedom\n",
        "    ## Multiple R-squared: 0.955,\tAdjusted R-squared: 0.95 \n",
        "    ## F-statistic:  212 on 4 and 40 DF,  p-value: <2e-16\n",
        "\u0000"
       ]
      }
     ],
     "prompt_number": 12
    },
    {
     "cell_type": "code",
     "collapsed": false,
     "input": [
      "%%knitr\n",
      "summary(interactionX.lm33)\n",
      "   "
     ],
     "language": "python",
     "metadata": {},
     "outputs": [
      {
       "output_type": "display_data",
       "text": [
        "    summary(interactionX.lm33)\n",
        "\u0000"
       ]
      },
      {
       "output_type": "display_data",
       "text": [
        "    ## \n",
        "    ## Call:\n",
        "    ## lm(formula = S ~ E * X + M, subset = subs33)\n",
        "    ## \n",
        "    ## Residuals:\n",
        "    ##     Min      1Q  Median      3Q     Max \n",
        "    ## -2004.2  -633.7   -27.3   646.3  2005.5 \n",
        "    ## \n",
        "    ## Coefficients:\n",
        "    ##             Estimate Std. Error t value Pr(>|t|)    \n",
        "    ## (Intercept)   7266.1      558.9   13.00  1.5e-15 ***\n",
        "    ## E2            4162.1      685.7    6.07  4.6e-07 ***\n",
        "    ## E3            3940.4      696.1    5.66  1.7e-06 ***\n",
        "    ## X              631.7       54.0   11.71  3.6e-14 ***\n",
        "    ## M1            7088.6      345.6   20.51  < 2e-16 ***\n",
        "    ## E2:X          -125.5       70.7   -1.77    0.084 .  \n",
        "    ## E3:X          -139.8       90.7   -1.54    0.132    \n",
        "    ## ---\n",
        "    ## Signif. codes:  0 '***' 0.001 '**' 0.01 '*' 0.05 '.' 0.1 ' ' 1 \n",
        "    ## \n",
        "    ## Residual standard error: 1020 on 38 degrees of freedom\n",
        "    ## Multiple R-squared: 0.959,\tAdjusted R-squared: 0.952 \n",
        "    ## F-statistic:  148 on 6 and 38 DF,  p-value: <2e-16\n",
        "\u0000"
       ]
      }
     ],
     "prompt_number": 13
    },
    {
     "cell_type": "code",
     "collapsed": false,
     "input": [
      "%%knitr\n",
      "anova(salary.lm33,interactionX.lm33)\n",
      "\n",
      "interactionM.lm33 = lm(S ~ X + E * M, subset=subs33)\n",
      "summary(interactionM.lm33)\n",
      "anova(salary.lm33,interactionM.lm33)"
     ],
     "language": "python",
     "metadata": {},
     "outputs": [
      {
       "output_type": "display_data",
       "text": [
        "    anova(salary.lm33, interactionX.lm33)\n",
        "\u0000"
       ]
      },
      {
       "output_type": "display_data",
       "text": [
        "    ## Analysis of Variance Table\n",
        "    ## \n",
        "    ## Model 1: S ~ E + X + M\n",
        "    ## Model 2: S ~ E * X + M\n",
        "    ##   Res.Df      RSS Df Sum of Sq    F Pr(>F)\n",
        "    ## 1     40 43209096                         \n",
        "    ## 2     38 39374237  2   3834859 1.85   0.17\n",
        "\u0000"
       ]
      },
      {
       "output_type": "display_data",
       "text": [
        "    \n",
        "    interactionM.lm33 = lm(S ~ X + E * M, subset = subs33)\n",
        "    summary(interactionM.lm33)\n",
        "\u0000"
       ]
      },
      {
       "output_type": "display_data",
       "text": [
        "    ## \n",
        "    ## Call:\n",
        "    ## lm(formula = S ~ X + E * M, subset = subs33)\n",
        "    ## \n",
        "    ## Residuals:\n",
        "    ##     Min      1Q  Median      3Q     Max \n",
        "    ## -112.88  -43.64   -5.04   46.62  128.48 \n",
        "    ## \n",
        "    ## Coefficients:\n",
        "    ##             Estimate Std. Error t value Pr(>|t|)    \n",
        "    ## (Intercept)  9458.38      31.04   304.7   <2e-16 ***\n",
        "    ## X             498.42       2.15   231.6   <2e-16 ***\n",
        "    ## E2           1384.29      29.86    46.4   <2e-16 ***\n",
        "    ## E3           1741.34      40.68    42.8   <2e-16 ***\n",
        "    ## M1           3988.82      39.07   102.1   <2e-16 ***\n",
        "    ## E2:M1        5049.29      51.67    97.7   <2e-16 ***\n",
        "    ## E3:M1        3051.76      57.67    52.9   <2e-16 ***\n",
        "    ## ---\n",
        "    ## Signif. codes:  0 '***' 0.001 '**' 0.01 '*' 0.05 '.' 0.1 ' ' 1 \n",
        "    ## \n",
        "    ## Residual standard error: 67.1 on 38 degrees of freedom\n",
        "    ## Multiple R-squared:    1,\tAdjusted R-squared:    1 \n",
        "    ## F-statistic: 3.54e+04 on 6 and 38 DF,  p-value: <2e-16\n",
        "\u0000"
       ]
      },
      {
       "output_type": "display_data",
       "text": [
        "    anova(salary.lm33, interactionM.lm33)\n",
        "\u0000"
       ]
      },
      {
       "output_type": "display_data",
       "text": [
        "    ## Analysis of Variance Table\n",
        "    ## \n",
        "    ## Model 1: S ~ E + X + M\n",
        "    ## Model 2: S ~ X + E * M\n",
        "    ##   Res.Df      RSS Df Sum of Sq    F Pr(>F)    \n",
        "    ## 1     40 43209096                             \n",
        "    ## 2     38   171188  2   4.3e+07 4777 <2e-16 ***\n",
        "    ## ---\n",
        "    ## Signif. codes:  0 '***' 0.001 '**' 0.01 '*' 0.05 '.' 0.1 ' ' 1\n",
        "\u0000"
       ]
      }
     ],
     "prompt_number": 14
    },
    {
     "cell_type": "markdown",
     "metadata": {},
     "source": [
      "Let's replot the residuals"
     ]
    },
    {
     "cell_type": "code",
     "collapsed": false,
     "input": [
      "%%knitr\n",
      "\n",
      "r = rstandard(interactionM.lm33)\n",
      "plot(X[subs33], r, type='n')\n",
      "for (i in 1:3) {\n",
      "    for (j in 0:1) {\n",
      "        subset <- as.logical((E == i) * (M == j)) \n",
      "        points(X[subset], r[subset], pch=symbols[j+1], bg=colors[i], cex=2)\n",
      "    }\n",
      "}"
     ],
     "language": "python",
     "metadata": {},
     "outputs": [
      {
       "output_type": "display_data",
       "text": [
        "    r = rstandard(interactionM.lm33)\n",
        "    plot(X[subs33], r, type = \"n\")\n",
        "    for (i in 1:3) {\n",
        "        for (j in 0:1) {\n",
        "            subset <- as.logical((E == i) * (M == j))\n",
        "            points(X[subset], r[subset], pch = symbols[j + 1], bg = colors[i], cex = 2)\n",
        "        }\n",
        "    }\n",
        "\u0000"
       ]
      },
      {
       "output_type": "display_data",
       "png": "[encoded data removed]"
      }
     ],
     "prompt_number": 15
    },
    {
     "cell_type": "markdown",
     "metadata": {},
     "source": [
      "Let's make a final plot of the fitted values"
     ]
    },
    {
     "cell_type": "code",
     "collapsed": false,
     "input": [
      "%%knitr\n",
      "\n",
      "salaryfinal.lm = lm(S ~ X + E * M, subset=subs33)\n",
      "mf = model.frame(salaryfinal.lm)\n",
      "plot(mf$X, mf$S, type='n', xlab='Experience', ylab='Salary')\n",
      "colors <- c('red', 'green', 'blue')\n",
      "ltys <- c(2,3)\n",
      "symbols <- c(23,24)\n",
      "for (i in 1:3) {\n",
      "    for (j in 0:1) {\n",
      "        subset <- as.logical((E == i) * (M == j))\n",
      "        subset33 <- as.logical((mf$E == i) * (mf$M == j))\n",
      "        points(X[subset], S[subset], pch=symbols[j+1], bg=colors[i], cex=2)\n",
      "        lines(mf$X[subset33], fitted(salaryfinal.lm)[subset33], lwd=2, lty=ltys[j], col=colors[i])\n",
      "    }\n",
      "}"
     ],
     "language": "python",
     "metadata": {},
     "outputs": [
      {
       "output_type": "display_data",
       "text": [
        "    salaryfinal.lm = lm(S ~ X + E * M, subset = subs33)\n",
        "    mf = model.frame(salaryfinal.lm)\n",
        "    plot(mf$X, mf$S, type = \"n\", xlab = \"Experience\", ylab = \"Salary\")\n",
        "    colors <- c(\"red\", \"green\", \"blue\")\n",
        "    ltys <- c(2, 3)\n",
        "    symbols <- c(23, 24)\n",
        "    for (i in 1:3) {\n",
        "        for (j in 0:1) {\n",
        "            subset <- as.logical((E == i) * (M == j))\n",
        "            subset33 <- as.logical((mf$E == i) * (mf$M == j))\n",
        "            points(X[subset], S[subset], pch = symbols[j + 1], bg = colors[i], cex = 2)\n",
        "            lines(mf$X[subset33], fitted(salaryfinal.lm)[subset33], lwd = 2, lty = ltys[j], \n",
        "                col = colors[i])\n",
        "        }\n",
        "    }\n",
        "\u0000"
       ]
      },
      {
       "output_type": "display_data",
       "png": "[encoded data removed]"
      }
     ],
     "prompt_number": 16
    },
    {
     "cell_type": "heading",
     "level": 3,
     "metadata": {},
     "source": [
      "Visualizing an interaction"
     ]
    },
    {
     "cell_type": "markdown",
     "metadata": {},
     "source": [
      "From our first look at the data, the difference between \n",
      "Master's and PhD in the\n",
      "management group is different than in the non-management\n",
      "group. This is an interaction between the two qualitative\n",
      "variables\n",
      "*management,M* and *education,E*. We can visualize this\n",
      "by first removing the effect of experience, then plotting\n",
      "the means within each of the 6 groups using *interaction.plot*."
     ]
    },
    {
     "cell_type": "code",
     "collapsed": false,
     "input": [
      "%%knitr\n",
      "\n",
      "U = S - X * interactionX.lm33$coef['X']\n",
      "\n",
      "interaction.plot(E, M, U, type='b', col=c('red',\n",
      "                'blue'), lwd=2, pch=c(23,24))\n",
      "\n",
      "detach(salary.table)"
     ],
     "language": "python",
     "metadata": {},
     "outputs": [
      {
       "output_type": "display_data",
       "text": [
        "    U = S - X * interactionX.lm33$coef[\"X\"]\n",
        "    \n",
        "    interaction.plot(E, M, U, type = \"b\", col = c(\"red\", \"blue\"), lwd = 2, pch = c(23, \n",
        "        24))\n",
        "\u0000"
       ]
      },
      {
       "output_type": "display_data",
       "png": "[encoded data removed]"
      },
      {
       "output_type": "display_data",
       "text": [
        "    \n",
        "    detach(salary.table)\n",
        "\u0000"
       ]
      }
     ],
     "prompt_number": 17
    },
    {
     "cell_type": "heading",
     "level": 3,
     "metadata": {},
     "source": [
      "Minority employment data"
     ]
    },
    {
     "cell_type": "code",
     "collapsed": false,
     "input": [
      "%%knitr\n",
      "url = 'http://stats191.stanford.edu/data/minority.table'\n",
      "\n",
      "minority.table <- read.table(url, header=T)\n",
      "minority.table$ETHN <- factor(minority.table$ETHN)\n",
      "attach(minority.table)\n",
      "\n",
      "plot(TEST, JPERF, type='n')\n",
      "points(TEST[(ETHN == 0)], JPERF[(ETHN == 0)], pch=21, cex=2, bg='purple')\n",
      "points(TEST[(ETHN == 1)], JPERF[(ETHN == 1)], pch=25, cex=2, bg='green')"
     ],
     "language": "python",
     "metadata": {},
     "outputs": [
      {
       "output_type": "display_data",
       "text": [
        "    url = \"http://stats191.stanford.edu/data/minority.table\"\n",
        "    \n",
        "    minority.table <- read.table(url, header = T)\n",
        "    minority.table$ETHN <- factor(minority.table$ETHN)\n",
        "    attach(minority.table)\n",
        "    \n",
        "    plot(TEST, JPERF, type = \"n\")\n",
        "    points(TEST[(ETHN == 0)], JPERF[(ETHN == 0)], pch = 21, cex = 2, bg = \"purple\")\n",
        "    points(TEST[(ETHN == 1)], JPERF[(ETHN == 1)], pch = 25, cex = 2, bg = \"green\")\n",
        "\u0000"
       ]
      },
      {
       "output_type": "display_data",
       "png": "[encoded data removed]"
      }
     ],
     "prompt_number": 18
    },
    {
     "cell_type": "markdown",
     "metadata": {},
     "source": [
      "Our first model, with no interactions."
     ]
    },
    {
     "cell_type": "code",
     "collapsed": false,
     "input": [
      "%%knitr\n",
      "minority.lm1 <- lm(JPERF ~ TEST)\n",
      "summary(minority.lm1)\n",
      "\n",
      "plot(TEST, JPERF, type='n')\n",
      "points(TEST[(ETHN == 0)], JPERF[(ETHN == 0)], pch=21, cex=2, bg='purple')\n",
      "points(TEST[(ETHN == 1)], JPERF[(ETHN == 1)], pch=25, cex=2, bg='green')\n",
      "abline(minority.lm1$coef, lwd=3, col='blue')"
     ],
     "language": "python",
     "metadata": {},
     "outputs": [
      {
       "output_type": "display_data",
       "text": [
        "    minority.lm1 <- lm(JPERF ~ TEST)\n",
        "    summary(minority.lm1)\n",
        "\u0000"
       ]
      },
      {
       "output_type": "display_data",
       "text": [
        "    ## \n",
        "    ## Call:\n",
        "    ## lm(formula = JPERF ~ TEST)\n",
        "    ## \n",
        "    ## Residuals:\n",
        "    ##    Min     1Q Median     3Q    Max \n",
        "    ##  -3.36  -0.88  -0.19   1.27   2.33 \n",
        "    ## \n",
        "    ## Coefficients:\n",
        "    ##             Estimate Std. Error t value Pr(>|t|)    \n",
        "    ## (Intercept)    1.035      0.868    1.19  0.24862    \n",
        "    ## TEST           2.361      0.538    4.39  0.00036 ***\n",
        "    ## ---\n",
        "    ## Signif. codes:  0 '***' 0.001 '**' 0.01 '*' 0.05 '.' 0.1 ' ' 1 \n",
        "    ## \n",
        "    ## Residual standard error: 1.59 on 18 degrees of freedom\n",
        "    ## Multiple R-squared: 0.517,\tAdjusted R-squared: 0.49 \n",
        "    ## F-statistic: 19.2 on 1 and 18 DF,  p-value: 0.000356\n",
        "\u0000"
       ]
      },
      {
       "output_type": "display_data",
       "text": [
        "    \n",
        "    plot(TEST, JPERF, type = \"n\")\n",
        "    points(TEST[(ETHN == 0)], JPERF[(ETHN == 0)], pch = 21, cex = 2, bg = \"purple\")\n",
        "    points(TEST[(ETHN == 1)], JPERF[(ETHN == 1)], pch = 25, cex = 2, bg = \"green\")\n",
        "    abline(minority.lm1$coef, lwd = 3, col = \"blue\")\n",
        "\u0000"
       ]
      },
      {
       "output_type": "display_data",
       "png": "[encoded data removed]"
      }
     ],
     "prompt_number": 19
    },
    {
     "cell_type": "markdown",
     "metadata": {},
     "source": [
      "Our second model allows for an effect of ETHN but interaction between ETHN and TEST."
     ]
    },
    {
     "cell_type": "code",
     "collapsed": false,
     "input": [
      "%%knitr\n",
      "minority.lm2 = lm(JPERF ~ TEST + ETHN)\n",
      "summary(minority.lm2)\n",
      "\n",
      "plot(TEST, JPERF, type='n')\n",
      "points(TEST[(ETHN == 0)], JPERF[(ETHN == 0)], pch=21, cex=2, bg='purple')\n",
      "points(TEST[(ETHN == 1)], JPERF[(ETHN == 1)], pch=25, cex=2, bg='green')\n",
      "\n",
      "abline(minority.lm2$coef['(Intercept)'], minority.lm2$coef['TEST'], lwd=3, col='purple')\n",
      "abline(minority.lm2$coef['(Intercept)'], minority.lm2$coef['TEST'] + minority.lm2$coef['ETHN1'], lwd=3, col='green')\n"
     ],
     "language": "python",
     "metadata": {},
     "outputs": [
      {
       "output_type": "display_data",
       "text": [
        "    minority.lm2 = lm(JPERF ~ TEST + ETHN)\n",
        "    summary(minority.lm2)\n",
        "\u0000"
       ]
      },
      {
       "output_type": "display_data",
       "text": [
        "    ## \n",
        "    ## Call:\n",
        "    ## lm(formula = JPERF ~ TEST + ETHN)\n",
        "    ## \n",
        "    ## Residuals:\n",
        "    ##    Min     1Q Median     3Q    Max \n",
        "    ## -2.787 -1.037 -0.209  0.920  2.365 \n",
        "    ## \n",
        "    ## Coefficients:\n",
        "    ##             Estimate Std. Error t value Pr(>|t|)    \n",
        "    ## (Intercept)    0.612      0.887    0.69  0.49958    \n",
        "    ## TEST           2.299      0.522    4.40  0.00039 ***\n",
        "    ## ETHN1          1.028      0.691    1.49  0.15525    \n",
        "    ## ---\n",
        "    ## Signif. codes:  0 '***' 0.001 '**' 0.01 '*' 0.05 '.' 0.1 ' ' 1 \n",
        "    ## \n",
        "    ## Residual standard error: 1.54 on 17 degrees of freedom\n",
        "    ## Multiple R-squared: 0.572,\tAdjusted R-squared: 0.522 \n",
        "    ## F-statistic: 11.4 on 2 and 17 DF,  p-value: 0.000731\n",
        "\u0000"
       ]
      },
      {
       "output_type": "display_data",
       "text": [
        "    \n",
        "    plot(TEST, JPERF, type = \"n\")\n",
        "    points(TEST[(ETHN == 0)], JPERF[(ETHN == 0)], pch = 21, cex = 2, bg = \"purple\")\n",
        "    points(TEST[(ETHN == 1)], JPERF[(ETHN == 1)], pch = 25, cex = 2, bg = \"green\")\n",
        "    \n",
        "    abline(minority.lm2$coef[\"(Intercept)\"], minority.lm2$coef[\"TEST\"], lwd = 3, \n",
        "        col = \"purple\")\n",
        "    abline(minority.lm2$coef[\"(Intercept)\"], minority.lm2$coef[\"TEST\"] + minority.lm2$coef[\"ETHN1\"], \n",
        "        lwd = 3, col = \"green\")\n",
        "\u0000"
       ]
      },
      {
       "output_type": "display_data",
       "png": "[encoded data removed]"
      }
     ],
     "prompt_number": 20
    },
    {
     "cell_type": "markdown",
     "metadata": {},
     "source": [
      "Our third model includes an interaction between TEST and ETHN. These models have the same intercept but possibly different slopes within the ETHN groups."
     ]
    },
    {
     "cell_type": "code",
     "collapsed": false,
     "input": [
      "%%knitr\n",
      "minority.lm3 = lm(JPERF ~ TEST + TEST:ETHN)\n",
      "summary(minority.lm3)\n",
      "\n",
      "plot(TEST, JPERF, type='n')\n",
      "points(TEST[(ETHN == 0)], JPERF[(ETHN == 0)], pch=21, cex=2, bg='purple')\n",
      "points(TEST[(ETHN == 1)], JPERF[(ETHN == 1)], pch=25, cex=2, bg='green')\n",
      "\n",
      "abline(minority.lm2$coef['(Intercept)'], minority.lm3$coef['TEST'], lwd=3, col='purple')\n",
      "abline(minority.lm2$coef['(Intercept)'], minority.lm3$coef['TEST'] + minority.lm3$coef['TEST:ETHN1'], lwd=3, col='green')\n"
     ],
     "language": "python",
     "metadata": {},
     "outputs": [
      {
       "output_type": "display_data",
       "text": [
        "    minority.lm3 = lm(JPERF ~ TEST + TEST:ETHN)\n",
        "    summary(minority.lm3)\n",
        "\u0000"
       ]
      },
      {
       "output_type": "display_data",
       "text": [
        "    ## \n",
        "    ## Call:\n",
        "    ## lm(formula = JPERF ~ TEST + TEST:ETHN)\n",
        "    ## \n",
        "    ## Residuals:\n",
        "    ##     Min      1Q  Median      3Q     Max \n",
        "    ## -2.4110 -0.8887 -0.0336  0.9772  2.4444 \n",
        "    ## \n",
        "    ## Coefficients:\n",
        "    ##             Estimate Std. Error t value Pr(>|t|)   \n",
        "    ## (Intercept)    1.121      0.780    1.44   0.1690   \n",
        "    ## TEST           1.828      0.536    3.41   0.0033 **\n",
        "    ## TEST:ETHN1     0.916      0.397    2.31   0.0339 * \n",
        "    ## ---\n",
        "    ## Signif. codes:  0 '***' 0.001 '**' 0.01 '*' 0.05 '.' 0.1 ' ' 1 \n",
        "    ## \n",
        "    ## Residual standard error: 1.43 on 17 degrees of freedom\n",
        "    ## Multiple R-squared: 0.632,\tAdjusted R-squared: 0.589 \n",
        "    ## F-statistic: 14.6 on 2 and 17 DF,  p-value: 0.000204\n",
        "\u0000"
       ]
      },
      {
       "output_type": "display_data",
       "text": [
        "    \n",
        "    plot(TEST, JPERF, type = \"n\")\n",
        "    points(TEST[(ETHN == 0)], JPERF[(ETHN == 0)], pch = 21, cex = 2, bg = \"purple\")\n",
        "    points(TEST[(ETHN == 1)], JPERF[(ETHN == 1)], pch = 25, cex = 2, bg = \"green\")\n",
        "    \n",
        "    abline(minority.lm2$coef[\"(Intercept)\"], minority.lm3$coef[\"TEST\"], lwd = 3, \n",
        "        col = \"purple\")\n",
        "    abline(minority.lm2$coef[\"(Intercept)\"], minority.lm3$coef[\"TEST\"] + minority.lm3$coef[\"TEST:ETHN1\"], \n",
        "        lwd = 3, col = \"green\")\n",
        "\u0000"
       ]
      },
      {
       "output_type": "display_data",
       "png": "[encoded data removed]"
      }
     ],
     "prompt_number": 21
    },
    {
     "cell_type": "markdown",
     "metadata": {},
     "source": [
      "Our final model allows for different intercepts and different slopes."
     ]
    },
    {
     "cell_type": "code",
     "collapsed": false,
     "input": [
      "%%knitr\n",
      "minority.lm4 = lm(JPERF ~ TEST * ETHN)\n",
      "summary(minority.lm4)\n",
      "\n",
      "plot(TEST, JPERF, type='n')\n",
      "points(TEST[(ETHN == 0)], JPERF[(ETHN == 0)], pch=21, cex=2, bg='purple')\n",
      "points(TEST[(ETHN == 1)], JPERF[(ETHN == 1)], pch=25, cex=2, bg='green')\n",
      "abline(minority.lm4$coef['(Intercept)'], minority.lm4$coef['TEST'], lwd=3, col='purple')\n",
      "abline(minority.lm4$coef['(Intercept)'] + minority.lm4$coef['ETHN1'],\n",
      "      minority.lm4$coef['TEST'] + minority.lm4$coef['TEST:ETHN1'], lwd=3, col='green')\n"
     ],
     "language": "python",
     "metadata": {},
     "outputs": [
      {
       "output_type": "display_data",
       "text": [
        "    minority.lm4 = lm(JPERF ~ TEST * ETHN)\n",
        "    summary(minority.lm4)\n",
        "\u0000"
       ]
      },
      {
       "output_type": "display_data",
       "text": [
        "    ## \n",
        "    ## Call:\n",
        "    ## lm(formula = JPERF ~ TEST * ETHN)\n",
        "    ## \n",
        "    ## Residuals:\n",
        "    ##    Min     1Q Median     3Q    Max \n",
        "    ## -2.073 -1.059 -0.255  1.283  2.198 \n",
        "    ## \n",
        "    ## Coefficients:\n",
        "    ##             Estimate Std. Error t value Pr(>|t|)  \n",
        "    ## (Intercept)    2.010      1.050    1.91    0.074 .\n",
        "    ## TEST           1.313      0.670    1.96    0.068 .\n",
        "    ## ETHN1         -1.913      1.540   -1.24    0.232  \n",
        "    ## TEST:ETHN1     1.998      0.954    2.09    0.053 .\n",
        "    ## ---\n",
        "    ## Signif. codes:  0 '***' 0.001 '**' 0.01 '*' 0.05 '.' 0.1 ' ' 1 \n",
        "    ## \n",
        "    ## Residual standard error: 1.41 on 16 degrees of freedom\n",
        "    ## Multiple R-squared: 0.664,\tAdjusted R-squared: 0.601 \n",
        "    ## F-statistic: 10.6 on 3 and 16 DF,  p-value: 0.000451\n",
        "\u0000"
       ]
      },
      {
       "output_type": "display_data",
       "text": [
        "    \n",
        "    plot(TEST, JPERF, type = \"n\")\n",
        "    points(TEST[(ETHN == 0)], JPERF[(ETHN == 0)], pch = 21, cex = 2, bg = \"purple\")\n",
        "    points(TEST[(ETHN == 1)], JPERF[(ETHN == 1)], pch = 25, cex = 2, bg = \"green\")\n",
        "    abline(minority.lm4$coef[\"(Intercept)\"], minority.lm4$coef[\"TEST\"], lwd = 3, \n",
        "        col = \"purple\")\n",
        "    abline(minority.lm4$coef[\"(Intercept)\"] + minority.lm4$coef[\"ETHN1\"], minority.lm4$coef[\"TEST\"] + \n",
        "        minority.lm4$coef[\"TEST:ETHN1\"], lwd = 3, col = \"green\")\n",
        "\u0000"
       ]
      },
      {
       "output_type": "display_data",
       "png": "[encoded data removed]"
      }
     ],
     "prompt_number": 22
    },
    {
     "cell_type": "heading",
     "level": 3,
     "metadata": {},
     "source": [
      "Comparing models"
     ]
    },
    {
     "cell_type": "markdown",
     "metadata": {},
     "source": [
      "Is there any effect of ETHN on slope or intercept?"
     ]
    },
    {
     "cell_type": "code",
     "collapsed": false,
     "input": [
      "%%knitr\n",
      "anova(minority.lm1, minority.lm4)"
     ],
     "language": "python",
     "metadata": {},
     "outputs": [
      {
       "output_type": "display_data",
       "text": [
        "    anova(minority.lm1, minority.lm4)\n",
        "\u0000"
       ]
      },
      {
       "output_type": "display_data",
       "text": [
        "    ## Analysis of Variance Table\n",
        "    ## \n",
        "    ## Model 1: JPERF ~ TEST\n",
        "    ## Model 2: JPERF ~ TEST * ETHN\n",
        "    ##   Res.Df  RSS Df Sum of Sq    F Pr(>F)  \n",
        "    ## 1     18 45.6                           \n",
        "    ## 2     16 31.7  2      13.9 3.52  0.054 .\n",
        "    ## ---\n",
        "    ## Signif. codes:  0 '***' 0.001 '**' 0.01 '*' 0.05 '.' 0.1 ' ' 1\n",
        "\u0000"
       ]
      }
     ],
     "prompt_number": 23
    },
    {
     "cell_type": "markdown",
     "metadata": {},
     "source": [
      "Is there any effect of ETHN on intercept?"
     ]
    },
    {
     "cell_type": "code",
     "collapsed": false,
     "input": [
      "%%knitr\n",
      "anova(minority.lm1, minority.lm2)"
     ],
     "language": "python",
     "metadata": {},
     "outputs": [
      {
       "output_type": "display_data",
       "text": [
        "    anova(minority.lm1, minority.lm2)\n",
        "\u0000"
       ]
      },
      {
       "output_type": "display_data",
       "text": [
        "    ## Analysis of Variance Table\n",
        "    ## \n",
        "    ## Model 1: JPERF ~ TEST\n",
        "    ## Model 2: JPERF ~ TEST + ETHN\n",
        "    ##   Res.Df  RSS Df Sum of Sq    F Pr(>F)\n",
        "    ## 1     18 45.6                         \n",
        "    ## 2     17 40.3  1      5.25 2.21   0.16\n",
        "\u0000"
       ]
      }
     ],
     "prompt_number": 24
    },
    {
     "cell_type": "markdown",
     "metadata": {},
     "source": [
      "Is there any effect of ETHN on slope?   "
     ]
    },
    {
     "cell_type": "code",
     "collapsed": false,
     "input": [
      "%%knitr\n",
      "anova(minority.lm1, minority.lm3)"
     ],
     "language": "python",
     "metadata": {},
     "outputs": [
      {
       "output_type": "display_data",
       "text": [
        "    anova(minority.lm1, minority.lm3)\n",
        "\u0000"
       ]
      },
      {
       "output_type": "display_data",
       "text": [
        "    ## Analysis of Variance Table\n",
        "    ## \n",
        "    ## Model 1: JPERF ~ TEST\n",
        "    ## Model 2: JPERF ~ TEST + TEST:ETHN\n",
        "    ##   Res.Df  RSS Df Sum of Sq    F Pr(>F)  \n",
        "    ## 1     18 45.6                           \n",
        "    ## 2     17 34.7  1      10.9 5.32  0.034 *\n",
        "    ## ---\n",
        "    ## Signif. codes:  0 '***' 0.001 '**' 0.01 '*' 0.05 '.' 0.1 ' ' 1\n",
        "\u0000"
       ]
      }
     ],
     "prompt_number": 25
    },
    {
     "cell_type": "markdown",
     "metadata": {},
     "source": [
      "Is it just the slope or both?   "
     ]
    },
    {
     "cell_type": "code",
     "collapsed": false,
     "input": [
      "%%knitr\n",
      "anova(minority.lm3, minority.lm4) "
     ],
     "language": "python",
     "metadata": {},
     "outputs": [
      {
       "output_type": "display_data",
       "text": [
        "    anova(minority.lm3, minority.lm4)\n",
        "\u0000"
       ]
      },
      {
       "output_type": "display_data",
       "text": [
        "    ## Analysis of Variance Table\n",
        "    ## \n",
        "    ## Model 1: JPERF ~ TEST + TEST:ETHN\n",
        "    ## Model 2: JPERF ~ TEST * ETHN\n",
        "    ##   Res.Df  RSS Df Sum of Sq    F Pr(>F)\n",
        "    ## 1     17 34.7                         \n",
        "    ## 2     16 31.7  1      3.05 1.54   0.23\n",
        "\u0000"
       ]
      }
     ],
     "prompt_number": 26
    },
    {
     "cell_type": "heading",
     "level": 3,
     "metadata": {},
     "source": [
      "One-way ANOVA"
     ]
    },
    {
     "cell_type": "code",
     "collapsed": false,
     "input": [
      "%%knitr\n",
      "url = 'http://stats191.stanford.edu/data/rehab.csv'\n",
      "rehab.table <- read.table(url, header=T, sep=',')\n",
      "rehab.table$Fitness <- factor(rehab.table$Fitness) \n",
      "attach(rehab.table)\n",
      "\n",
      "boxplot(Time ~ Fitness, col=c('red','green','blue'))"
     ],
     "language": "python",
     "metadata": {},
     "outputs": [
      {
       "output_type": "display_data",
       "text": [
        "    url = \"http://stats191.stanford.edu/data/rehab.csv\"\n",
        "    rehab.table <- read.table(url, header = T, sep = \",\")\n",
        "    rehab.table$Fitness <- factor(rehab.table$Fitness)\n",
        "    attach(rehab.table)\n",
        "    \n",
        "    boxplot(Time ~ Fitness, col = c(\"red\", \"green\", \"blue\"))\n",
        "\u0000"
       ]
      },
      {
       "output_type": "display_data",
       "png": "[encoded data removed]"
      }
     ],
     "prompt_number": 27
    },
    {
     "cell_type": "markdown",
     "metadata": {},
     "source": [
      "Fit the one-way ANOVA model"
     ]
    },
    {
     "cell_type": "code",
     "collapsed": false,
     "input": [
      "%%knitr\n",
      "rehab.lm <- lm(Time ~ Fitness)\n",
      "anova(rehab.lm)"
     ],
     "language": "python",
     "metadata": {},
     "outputs": [
      {
       "output_type": "display_data",
       "text": [
        "    rehab.lm <- lm(Time ~ Fitness)\n",
        "    anova(rehab.lm)\n",
        "\u0000"
       ]
      },
      {
       "output_type": "display_data",
       "text": [
        "    ## Analysis of Variance Table\n",
        "    ## \n",
        "    ## Response: Time\n",
        "    ##           Df Sum Sq Mean Sq F value  Pr(>F)    \n",
        "    ## Fitness    2    672     336      17 4.1e-05 ***\n",
        "    ## Residuals 21    416      20                    \n",
        "    ## ---\n",
        "    ## Signif. codes:  0 '***' 0.001 '**' 0.01 '*' 0.05 '.' 0.1 ' ' 1\n",
        "\u0000"
       ]
      }
     ],
     "prompt_number": 28
    },
    {
     "cell_type": "code",
     "collapsed": false,
     "input": [
      "%%knitr\n",
      "model.matrix(rehab.lm)"
     ],
     "language": "python",
     "metadata": {},
     "outputs": [
      {
       "output_type": "display_data",
       "text": [
        "    model.matrix(rehab.lm)\n",
        "\u0000"
       ]
      },
      {
       "output_type": "display_data",
       "text": [
        "    ##    (Intercept) Fitness2 Fitness3\n",
        "    ## 1            1        0        0\n",
        "    ## 2            1        0        0\n",
        "    ## 3            1        0        0\n",
        "    ## 4            1        0        0\n",
        "    ## 5            1        0        0\n",
        "    ## 6            1        0        0\n",
        "    ## 7            1        0        0\n",
        "    ## 8            1        0        0\n",
        "    ## 9            1        1        0\n",
        "    ## 10           1        1        0\n",
        "    ## 11           1        1        0\n",
        "    ## 12           1        1        0\n",
        "    ## 13           1        1        0\n",
        "    ## 14           1        1        0\n",
        "    ## 15           1        1        0\n",
        "    ## 16           1        1        0\n",
        "    ## 17           1        1        0\n",
        "    ## 18           1        1        0\n",
        "    ## 19           1        0        1\n",
        "    ## 20           1        0        1\n",
        "    ## 21           1        0        1\n",
        "    ## 22           1        0        1\n",
        "    ## 23           1        0        1\n",
        "    ## 24           1        0        1\n",
        "    ## attr(,\"assign\")\n",
        "    ## [1] 0 1 1\n",
        "    ## attr(,\"contrasts\")\n",
        "    ## attr(,\"contrasts\")$Fitness\n",
        "    ## [1] \"contr.treatment\"\n",
        "\u0000"
       ]
      }
     ],
     "prompt_number": 29
    },
    {
     "cell_type": "markdown",
     "metadata": {},
     "source": [
      "This means that the coefficient Fitness2 is the estimated\n",
      "   difference between the two groups.\n",
      "\n",
      "   "
     ]
    },
    {
     "cell_type": "code",
     "collapsed": false,
     "input": [
      "%%knitr\n",
      "summary(rehab.lm)"
     ],
     "language": "python",
     "metadata": {},
     "outputs": [
      {
       "output_type": "display_data",
       "text": [
        "    summary(rehab.lm)\n",
        "\u0000"
       ]
      },
      {
       "output_type": "display_data",
       "text": [
        "    ## \n",
        "    ## Call:\n",
        "    ## lm(formula = Time ~ Fitness)\n",
        "    ## \n",
        "    ## Residuals:\n",
        "    ##    Min     1Q Median     3Q    Max \n",
        "    ##   -9.0   -3.0   -0.5    3.0    8.0 \n",
        "    ## \n",
        "    ## Coefficients:\n",
        "    ##             Estimate Std. Error t value Pr(>|t|)    \n",
        "    ## (Intercept)    38.00       1.57   24.15  < 2e-16 ***\n",
        "    ## Fitness2       -6.00       2.11   -2.84   0.0098 ** \n",
        "    ## Fitness3      -14.00       2.40   -5.82  8.8e-06 ***\n",
        "    ## ---\n",
        "    ## Signif. codes:  0 '***' 0.001 '**' 0.01 '*' 0.05 '.' 0.1 ' ' 1 \n",
        "    ## \n",
        "    ## Residual standard error: 4.45 on 21 degrees of freedom\n",
        "    ## Multiple R-squared: 0.618,\tAdjusted R-squared: 0.581 \n",
        "    ## F-statistic:   17 on 2 and 21 DF,  p-value: 4.13e-05\n",
        "\u0000"
       ]
      }
     ],
     "prompt_number": 30
    },
    {
     "cell_type": "heading",
     "level": 3,
     "metadata": {},
     "source": [
      "Two-way ANOVA"
     ]
    },
    {
     "cell_type": "code",
     "collapsed": false,
     "input": [
      "%%knitr\n",
      "\n",
      "url = 'http://stats191.stanford.edu/data/kidney.table'\n",
      "kidney.table <- read.table(url, header=T)\n",
      "kidney.table$Duration <- factor(kidney.table$Duration)\n",
      "kidney.table$Weight <- factor(kidney.table$Weight)\n",
      "kidney.table$logDays <- log(kidney.table$Days + 1) # Use log days to \"stabilize\" variance\n",
      "attach(kidney.table)"
     ],
     "language": "python",
     "metadata": {},
     "outputs": [
      {
       "output_type": "display_data",
       "text": [
        "    url = \"http://stats191.stanford.edu/data/kidney.table\"\n",
        "    kidney.table <- read.table(url, header = T)\n",
        "    kidney.table$Duration <- factor(kidney.table$Duration)\n",
        "    kidney.table$Weight <- factor(kidney.table$Weight)\n",
        "    kidney.table$logDays <- log(kidney.table$Days + 1)\n",
        "    attach(kidney.table)\n",
        "\u0000"
       ]
      }
     ],
     "prompt_number": 31
    },
    {
     "cell_type": "markdown",
     "metadata": {},
     "source": [
      "Plot data: is there visual evidence of interactions?"
     ]
    },
    {
     "cell_type": "code",
     "collapsed": false,
     "input": [
      "%%knitr\n",
      "interaction.plot(Weight, Duration, logDays, type='b', col=c('red',\n",
      "                  'blue'), lwd=2, pch=c(23,24))"
     ],
     "language": "python",
     "metadata": {},
     "outputs": [
      {
       "output_type": "display_data",
       "text": [
        "    interaction.plot(Weight, Duration, logDays, type = \"b\", col = c(\"red\", \"blue\"), \n",
        "        lwd = 2, pch = c(23, 24))\n",
        "\u0000"
       ]
      },
      {
       "output_type": "display_data",
       "png": "[encoded data removed]"
      }
     ],
     "prompt_number": 32
    },
    {
     "cell_type": "markdown",
     "metadata": {},
     "source": [
      "Let's fit a model and look at the ANOVA table."
     ]
    },
    {
     "cell_type": "code",
     "collapsed": false,
     "input": [
      "%%knitr\n",
      "kidney.lm <- lm(logDays ~ Duration * Weight)\n",
      "anova(kidney.lm)\n"
     ],
     "language": "python",
     "metadata": {},
     "outputs": [
      {
       "output_type": "display_data",
       "text": [
        "    kidney.lm <- lm(logDays ~ Duration * Weight)\n",
        "    anova(kidney.lm)\n",
        "\u0000"
       ]
      },
      {
       "output_type": "display_data",
       "text": [
        "    ## Analysis of Variance Table\n",
        "    ## \n",
        "    ## Response: logDays\n",
        "    ##                 Df Sum Sq Mean Sq F value  Pr(>F)    \n",
        "    ## Duration         1   2.34    2.34    4.36   0.042 *  \n",
        "    ## Weight           2  16.97    8.49   15.81 3.9e-06 ***\n",
        "    ## Duration:Weight  2   0.64    0.32    0.59   0.557    \n",
        "    ## Residuals       54  28.99    0.54                    \n",
        "    ## ---\n",
        "    ## Signif. codes:  0 '***' 0.001 '**' 0.01 '*' 0.05 '.' 0.1 ' ' 1\n",
        "\u0000"
       ]
      }
     ],
     "prompt_number": 33
    },
    {
     "cell_type": "markdown",
     "metadata": {},
     "source": [
      "We can test for interactions using our usual approach\n"
     ]
    },
    {
     "cell_type": "code",
     "collapsed": false,
     "input": [
      "%%knitr\n",
      "anova(lm(logDays ~ Duration + Weight), kidney.lm)"
     ],
     "language": "python",
     "metadata": {},
     "outputs": [
      {
       "output_type": "display_data",
       "text": [
        "    anova(lm(logDays ~ Duration + Weight), kidney.lm)\n",
        "\u0000"
       ]
      },
      {
       "output_type": "display_data",
       "text": [
        "    ## Analysis of Variance Table\n",
        "    ## \n",
        "    ## Model 1: logDays ~ Duration + Weight\n",
        "    ## Model 2: logDays ~ Duration * Weight\n",
        "    ##   Res.Df  RSS Df Sum of Sq    F Pr(>F)\n",
        "    ## 1     56 29.6                         \n",
        "    ## 2     54 29.0  2     0.636 0.59   0.56\n",
        "\u0000"
       ]
      }
     ],
     "prompt_number": 34
    },
    {
     "cell_type": "heading",
     "level": 3,
     "metadata": {},
     "source": [
      "Sums of squares"
     ]
    },
    {
     "cell_type": "markdown",
     "metadata": {},
     "source": [
      "There are different types of sums of squares (I,II,III and more).\n",
      "R uses type I by default but for balanced\n",
      "design you can code the dummy variables with contrasts\n",
      "to yield the same ANOVA table. The other two types,\n",
      "which are more common in practice\n",
      "can be found in the \"car\" library."
     ]
    },
    {
     "cell_type": "code",
     "collapsed": false,
     "input": [
      "%%knitr\n",
      "sum.lm = lm(logDays ~ Duration * Weight, contrasts=list(Duration=contr.sum, Weight=contr.sum))\n",
      "library(car)\n",
      "\n",
      "anova(sum.lm)\n",
      "Anova(sum.lm, type='II')\n",
      "Anova(sum.lm, type='III')"
     ],
     "language": "python",
     "metadata": {},
     "outputs": [
      {
       "output_type": "display_data",
       "text": [
        "    sum.lm = lm(logDays ~ Duration * Weight, contrasts = list(Duration = contr.sum, \n",
        "        Weight = contr.sum))\n",
        "    library(car)\n",
        "    \n",
        "    anova(sum.lm)\n",
        "\u0000"
       ]
      },
      {
       "output_type": "display_data",
       "text": [
        "    ## Analysis of Variance Table\n",
        "    ## \n",
        "    ## Response: logDays\n",
        "    ##                 Df Sum Sq Mean Sq F value  Pr(>F)    \n",
        "    ## Duration         1   2.34    2.34    4.36   0.042 *  \n",
        "    ## Weight           2  16.97    8.49   15.81 3.9e-06 ***\n",
        "    ## Duration:Weight  2   0.64    0.32    0.59   0.557    \n",
        "    ## Residuals       54  28.99    0.54                    \n",
        "    ## ---\n",
        "    ## Signif. codes:  0 '***' 0.001 '**' 0.01 '*' 0.05 '.' 0.1 ' ' 1\n",
        "\u0000"
       ]
      },
      {
       "output_type": "display_data",
       "text": [
        "    Anova(sum.lm, type = \"II\")\n",
        "\u0000"
       ]
      },
      {
       "output_type": "display_data",
       "text": [
        "    ## Anova Table (Type II tests)\n",
        "    ## \n",
        "    ## Response: logDays\n",
        "    ##                 Sum Sq Df F value  Pr(>F)    \n",
        "    ## Duration          2.34  1    4.36   0.042 *  \n",
        "    ## Weight           16.97  2   15.81 3.9e-06 ***\n",
        "    ## Duration:Weight   0.64  2    0.59   0.557    \n",
        "    ## Residuals        28.99 54                    \n",
        "    ## ---\n",
        "    ## Signif. codes:  0 '***' 0.001 '**' 0.01 '*' 0.05 '.' 0.1 ' ' 1\n",
        "\u0000"
       ]
      },
      {
       "output_type": "display_data",
       "text": [
        "    Anova(sum.lm, type = \"III\")\n",
        "\u0000"
       ]
      },
      {
       "output_type": "display_data",
       "text": [
        "    ## Anova Table (Type III tests)\n",
        "    ## \n",
        "    ## Response: logDays\n",
        "    ##                 Sum Sq Df F value  Pr(>F)    \n",
        "    ## (Intercept)      156.3  1  291.15 < 2e-16 ***\n",
        "    ## Duration           2.3  1    4.36   0.042 *  \n",
        "    ## Weight            17.0  2   15.81 3.9e-06 ***\n",
        "    ## Duration:Weight    0.6  2    0.59   0.557    \n",
        "    ## Residuals         29.0 54                    \n",
        "    ## ---\n",
        "    ## Signif. codes:  0 '***' 0.001 '**' 0.01 '*' 0.05 '.' 0.1 ' ' 1\n",
        "\u0000"
       ]
      }
     ],
     "prompt_number": 35
    },
    {
     "cell_type": "markdown",
     "metadata": {},
     "source": [
      "These sums of squares are different if you use the default\n",
      "contrast codings, i.e. contr.treatment\n",
      "   "
     ]
    },
    {
     "cell_type": "code",
     "collapsed": false,
     "input": [
      "%%knitr\n",
      "nosum.lm = lm(logDays ~ Duration * Weight)\n",
      "anova(nosum.lm)"
     ],
     "language": "python",
     "metadata": {},
     "outputs": [
      {
       "output_type": "display_data",
       "text": [
        "    nosum.lm = lm(logDays ~ Duration * Weight)\n",
        "    anova(nosum.lm)\n",
        "\u0000"
       ]
      },
      {
       "output_type": "display_data",
       "text": [
        "    ## Analysis of Variance Table\n",
        "    ## \n",
        "    ## Response: logDays\n",
        "    ##                 Df Sum Sq Mean Sq F value  Pr(>F)    \n",
        "    ## Duration         1   2.34    2.34    4.36   0.042 *  \n",
        "    ## Weight           2  16.97    8.49   15.81 3.9e-06 ***\n",
        "    ## Duration:Weight  2   0.64    0.32    0.59   0.557    \n",
        "    ## Residuals       54  28.99    0.54                    \n",
        "    ## ---\n",
        "    ## Signif. codes:  0 '***' 0.001 '**' 0.01 '*' 0.05 '.' 0.1 ' ' 1\n",
        "\u0000"
       ]
      }
     ],
     "prompt_number": 36
    },
    {
     "cell_type": "code",
     "collapsed": false,
     "input": [
      "%%knitr\n",
      "Anova(nosum.lm, type='II')"
     ],
     "language": "python",
     "metadata": {},
     "outputs": [
      {
       "output_type": "display_data",
       "text": [
        "    Anova(nosum.lm, type = \"II\")\n",
        "\u0000"
       ]
      },
      {
       "output_type": "display_data",
       "text": [
        "    ## Anova Table (Type II tests)\n",
        "    ## \n",
        "    ## Response: logDays\n",
        "    ##                 Sum Sq Df F value  Pr(>F)    \n",
        "    ## Duration          2.34  1    4.36   0.042 *  \n",
        "    ## Weight           16.97  2   15.81 3.9e-06 ***\n",
        "    ## Duration:Weight   0.64  2    0.59   0.557    \n",
        "    ## Residuals        28.99 54                    \n",
        "    ## ---\n",
        "    ## Signif. codes:  0 '***' 0.001 '**' 0.01 '*' 0.05 '.' 0.1 ' ' 1\n",
        "\u0000"
       ]
      }
     ],
     "prompt_number": 37
    },
    {
     "cell_type": "code",
     "collapsed": false,
     "input": [
      "%%knitr\n",
      "Anova(nosum.lm, type='III')"
     ],
     "language": "python",
     "metadata": {},
     "outputs": [
      {
       "output_type": "display_data",
       "text": [
        "    Anova(nosum.lm, type = \"III\")\n",
        "\u0000"
       ]
      },
      {
       "output_type": "display_data",
       "text": [
        "    ## Anova Table (Type III tests)\n",
        "    ## \n",
        "    ## Response: logDays\n",
        "    ##                 Sum Sq Df F value  Pr(>F)    \n",
        "    ## (Intercept)      10.43  1   19.42   5e-05 ***\n",
        "    ## Duration          0.05  1    0.10 0.75170    \n",
        "    ## Weight           11.70  2   10.90 0.00011 ***\n",
        "    ## Duration:Weight   0.64  2    0.59 0.55675    \n",
        "    ## Residuals        28.99 54                    \n",
        "    ## ---\n",
        "    ## Signif. codes:  0 '***' 0.001 '**' 0.01 '*' 0.05 '.' 0.1 ' ' 1\n",
        "\u0000"
       ]
      }
     ],
     "prompt_number": 38
    },
    {
     "cell_type": "heading",
     "level": 3,
     "metadata": {},
     "source": [
      "One way random effects ANOVA"
     ]
    },
    {
     "cell_type": "code",
     "collapsed": false,
     "input": [
      "%%knitr\n",
      "url = 'http://stats191.stanford.edu/data/sodium.table'\n",
      "sodium.table <- read.table(url, header=T)\n",
      "sodium.table$brand <- factor(sodium.table$brand)\n",
      "sodium.lm = lm(sodium ~ brand, sodium.table)\n",
      "anova(sodium.lm)"
     ],
     "language": "python",
     "metadata": {},
     "outputs": [
      {
       "output_type": "display_data",
       "text": [
        "    url = \"http://stats191.stanford.edu/data/sodium.table\"\n",
        "    sodium.table <- read.table(url, header = T)\n",
        "    sodium.table$brand <- factor(sodium.table$brand)\n",
        "    sodium.lm = lm(sodium ~ brand, sodium.table)\n",
        "    anova(sodium.lm)\n",
        "\u0000"
       ]
      },
      {
       "output_type": "display_data",
       "text": [
        "    ## Analysis of Variance Table\n",
        "    ## \n",
        "    ## Response: sodium\n",
        "    ##           Df Sum Sq Mean Sq F value Pr(>F)    \n",
        "    ## brand      5    855   170.9     239 <2e-16 ***\n",
        "    ## Residuals 42     30     0.7                   \n",
        "    ## ---\n",
        "    ## Signif. codes:  0 '***' 0.001 '**' 0.01 '*' 0.05 '.' 0.1 ' ' 1\n",
        "\u0000"
       ]
      }
     ],
     "prompt_number": 39
    },
    {
     "cell_type": "markdown",
     "metadata": {},
     "source": [
      "According to our slides in class, we can form a confidence interval as"
     ]
    },
    {
     "cell_type": "code",
     "collapsed": false,
     "input": [
      "%%knitr\n",
      "center = mean(sodium.table$sodium)"
     ],
     "language": "python",
     "metadata": {},
     "outputs": [
      {
       "output_type": "display_data",
       "text": [
        "    center = mean(sodium.table$sodium)\n",
        "\u0000"
       ]
      }
     ],
     "prompt_number": 45
    },
    {
     "cell_type": "markdown",
     "metadata": {},
     "source": [
      "You can fit this model using `lme` in the `nlme` package. However, the degrees of freedom for the intercept is off. It doesn't agree with, e.g.\n",
      "Chapter 25 of [NKNW](http://www.amazon.com/Applied-Linear-Statistical-Models-Michael/dp/007310874X/ref=pd_sim_b_1)."
     ]
    },
    {
     "cell_type": "code",
     "collapsed": false,
     "input": [
      "%%knitr\n",
      "library(nlme)\n",
      "sodium.lme = lme(fixed=sodium~1,random=~1|brand, data=sodium.table)\n",
      "MSTR = anova(sodium.lm)$Mean[1]\n",
      "MSE = anova(sodium.lm)$Mean[2]\n",
      "summary(sodium.lme)\n",
      "intervals(sodium.lme)"
     ],
     "language": "python",
     "metadata": {},
     "outputs": [
      {
       "output_type": "display_data",
       "text": [
        "    library(nlme)\n",
        "    sodium.lme = lme(fixed = sodium ~ 1, random = ~1 | brand, data = sodium.table)\n",
        "    MSTR = anova(sodium.lm)$Mean[1]\n",
        "    MSE = anova(sodium.lm)$Mean[2]\n",
        "    summary(sodium.lme)\n",
        "\u0000"
       ]
      },
      {
       "output_type": "display_data",
       "text": [
        "    ## Linear mixed-effects model fit by REML\n",
        "    ##  Data: sodium.table \n",
        "    ##     AIC   BIC logLik\n",
        "    ##   154.9 160.5 -74.46\n",
        "    ## \n",
        "    ## Random effects:\n",
        "    ##  Formula: ~1 | brand\n",
        "    ##         (Intercept) Residual\n",
        "    ## StdDev:       4.612   0.8461\n",
        "    ## \n",
        "    ## Fixed effects: sodium ~ 1 \n",
        "    ##             Value Std.Error DF t-value p-value\n",
        "    ## (Intercept) 17.63     1.887 42   9.343       0\n",
        "    ## \n",
        "    ## Standardized Within-Group Residuals:\n",
        "    ##      Min       Q1      Med       Q3      Max \n",
        "    ## -1.90551 -0.68338  0.08232  0.79247  1.64969 \n",
        "    ## \n",
        "    ## Number of Observations: 48\n",
        "    ## Number of Groups: 6\n",
        "\u0000"
       ]
      },
      {
       "output_type": "display_data",
       "text": [
        "    intervals(sodium.lme)\n",
        "\u0000"
       ]
      },
      {
       "output_type": "display_data",
       "text": [
        "    ## Approximate 95% confidence intervals\n",
        "    ## \n",
        "    ##  Fixed effects:\n",
        "    ##             lower  est. upper\n",
        "    ## (Intercept) 13.82 17.63 21.44\n",
        "    ## attr(,\"label\")\n",
        "    ## [1] \"Fixed effects:\"\n",
        "    ## \n",
        "    ##  Random Effects:\n",
        "    ##   Level: brand \n",
        "    ##                 lower  est. upper\n",
        "    ## sd((Intercept)) 2.475 4.612 8.595\n",
        "    ## \n",
        "    ##  Within-group standard error:\n",
        "    ##  lower   est.  upper \n",
        "    ## 0.6832 0.8461 1.0479\n",
        "\u0000"
       ]
      }
     ],
     "prompt_number": 46
    },
    {
     "cell_type": "markdown",
     "metadata": {},
     "source": [
      "If we adjust our previous interval for the intercept to use the (incorrect) 42 degrees of freedom we get the same result as `lme`."
     ]
    },
    {
     "cell_type": "code",
     "collapsed": false,
     "input": [
      "%%knitr\n",
      "lwr.42 = center + sqrt(MSTR / 48) * qt(0.975,42)\n",
      "upr.42 = center - sqrt(MSTR / 48) * qt(0.975,42)\n",
      "data.frame(center,lwr.42,upr.42)"
     ],
     "language": "python",
     "metadata": {},
     "outputs": [
      {
       "output_type": "display_data",
       "text": [
        "    lwr.42 = center + sqrt(MSTR/48) * qt(0.975, 42)\n",
        "    upr.42 = center - sqrt(MSTR/48) * qt(0.975, 42)\n",
        "    data.frame(center, lwr.42, upr.42)\n",
        "\u0000"
       ]
      },
      {
       "output_type": "display_data",
       "text": [
        "    ##   center lwr.42 upr.42\n",
        "    ## 1  17.63  21.44  13.82\n",
        "\u0000"
       ]
      }
     ],
     "prompt_number": 48
    },
    {
     "cell_type": "code",
     "collapsed": false,
     "input": [],
     "language": "python",
     "metadata": {},
     "outputs": [],
     "prompt_number": 44
    },
    {
     "cell_type": "code",
     "collapsed": false,
     "input": [],
     "language": "python",
     "metadata": {},
     "outputs": []
    }
   ],
   "metadata": {}
  }
 ]
}