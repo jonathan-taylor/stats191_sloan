{
 "metadata": {
  "name": "Some tips on R"
 },
 "nbformat": 3,
 "nbformat_minor": 0,
 "worksheets": [
  {
   "cells": [
    {
     "cell_type": "heading",
     "level": 2,
     "metadata": {},
     "source": [
      "Some help for R"
     ]
    },
    {
     "cell_type": "markdown",
     "metadata": {},
     "source": [
      "Download the [ipython notebook](notebooks/Some tips on R.ipynb).\n",
      "\n",
      "These are just some of the things I find useful. Feel free to search\n",
      "around for others. "
     ]
    },
    {
     "cell_type": "heading",
     "level": 3,
     "metadata": {},
     "source": [
      "Functions"
     ]
    },
    {
     "cell_type": "code",
     "collapsed": false,
     "input": [
      "%load_ext course_modules.knitr_extension\n"
     ],
     "language": "python",
     "metadata": {},
     "outputs": [],
     "prompt_number": 1
    },
    {
     "cell_type": "markdown",
     "metadata": {},
     "source": [
      "R is a fully functional programming language so one can define\n",
      "functions in it. For example,\n",
      "you might get tired of always typing http://stats191.stanford.edu/data.\n",
      "You could make a small function"
     ]
    },
    {
     "cell_type": "code",
     "collapsed": false,
     "input": [
      "%%knitr\n",
      "\n",
      "useful_function = function(dataname) {\n",
      "    return(paste(\"http://stats191.stanford.edu/data/\", dataname, sep=''))\n",
      "}\n",
      "\n",
      "useful_function(\"heights.table\")"
     ],
     "language": "python",
     "metadata": {},
     "outputs": [
      {
       "output_type": "display_data",
       "text": [
        "    useful_function = function(dataname) {\n",
        "        return(paste(\"http://stats191.stanford.edu/data/\", dataname, sep = \"\"))\n",
        "    }\n",
        "    \n",
        "    useful_function(\"heights.table\")\n",
        "\u0000"
       ]
      },
      {
       "output_type": "display_data",
       "text": [
        "    ## [1] \"http://stats191.stanford.edu/data/heights.table\"\n",
        "\u0000"
       ]
      }
     ],
     "prompt_number": 2
    },
    {
     "cell_type": "markdown",
     "metadata": {},
     "source": [
      "Let's load the heights data with less code"
     ]
    },
    {
     "cell_type": "code",
     "collapsed": false,
     "input": [
      "%%knitr\n",
      "h.table = read.table(useful_function(\"heights.table\"), header=T, sep=',')   "
     ],
     "language": "python",
     "metadata": {},
     "outputs": [
      {
       "output_type": "display_data",
       "text": [
        "    h.table = read.table(useful_function(\"heights.table\"), header = T, sep = \",\")\n",
        "\u0000"
       ]
      }
     ],
     "prompt_number": 3
    },
    {
     "cell_type": "heading",
     "level": 3,
     "metadata": {},
     "source": [
      "Source"
     ]
    },
    {
     "cell_type": "markdown",
     "metadata": {},
     "source": [
      "When working on a particular project or assignment, it is often\n",
      "easiest to type commands in a text editor and rerun them several times.\n",
      "The command *source* is an easy way to do this, and it takes either\n",
      "the name of a file or a URL as argument. \n",
      "Suppose we have a\n",
      "webpage http://stats191.stanford.edu/R/mycode.R with the \n",
      "function *dataurl* above:\n",
      "\n",
      "    dataurl = function(dataname) {\n",
      "        return(paste(\"http://stats191.stanford.edu/data/\", dataname, sep=''))\n",
      "    }"
     ]
    },
    {
     "cell_type": "markdown",
     "metadata": {},
     "source": [
      "\n",
      "Then, we can execute this as follows"
     ]
    },
    {
     "cell_type": "code",
     "collapsed": false,
     "input": [
      "%%knitr\n",
      "\n",
      "source(\"http://stats191.stanford.edu/R/mycode.R\")\n",
      "dataurl(\"heights.table\")"
     ],
     "language": "python",
     "metadata": {},
     "outputs": [
      {
       "output_type": "display_data",
       "text": [
        "    source(\"http://stats191.stanford.edu/R/mycode.R\")\n",
        "    dataurl(\"heights.table\")\n",
        "\u0000"
       ]
      },
      {
       "output_type": "display_data",
       "text": [
        "    ## [1] \"http://stats191.stanford.edu/data/ heights.table\"\n",
        "\u0000"
       ]
      }
     ],
     "prompt_number": 4
    },
    {
     "cell_type": "markdown",
     "metadata": {},
     "source": [
      "As you go through the course, you might add some other useful functions\n",
      "to this file. \n",
      "\n"
     ]
    },
    {
     "cell_type": "heading",
     "level": 3,
     "metadata": {},
     "source": [
      "Concatenation, sequences"
     ]
    },
    {
     "cell_type": "markdown",
     "metadata": {},
     "source": [
      "The function *c*, concatenation, is used often in R, as are\n",
      "*rep* and *seq*"
     ]
    },
    {
     "cell_type": "code",
     "collapsed": false,
     "input": [
      "%%knitr\n",
      "X = 3\n",
      "Y = 4\n",
      "c(X,Y)"
     ],
     "language": "python",
     "metadata": {},
     "outputs": [
      {
       "output_type": "display_data",
       "text": [
        "    X = 3\n",
        "    Y = 4\n",
        "    c(X, Y)\n",
        "\u0000"
       ]
      },
      {
       "output_type": "display_data",
       "text": [
        "    ## [1] 3 4\n",
        "\u0000"
       ]
      }
     ],
     "prompt_number": 5
    },
    {
     "cell_type": "code",
     "collapsed": false,
     "input": [
      "%%knitr\n",
      "rep(1,4)\n",
      "rep(2,3)\n",
      "c(rep(1,4), rep(2,3))"
     ],
     "language": "python",
     "metadata": {},
     "outputs": [
      {
       "output_type": "display_data",
       "text": [
        "    rep(1, 4)\n",
        "\u0000"
       ]
      },
      {
       "output_type": "display_data",
       "text": [
        "    ## [1] 1 1 1 1\n",
        "\u0000"
       ]
      },
      {
       "output_type": "display_data",
       "text": [
        "    rep(2, 3)\n",
        "\u0000"
       ]
      },
      {
       "output_type": "display_data",
       "text": [
        "    ## [1] 2 2 2\n",
        "\u0000"
       ]
      },
      {
       "output_type": "display_data",
       "text": [
        "    c(rep(1, 4), rep(2, 3))\n",
        "\u0000"
       ]
      },
      {
       "output_type": "display_data",
       "text": [
        "    ## [1] 1 1 1 1 2 2 2\n",
        "\u0000"
       ]
      }
     ],
     "prompt_number": 6
    },
    {
     "cell_type": "code",
     "collapsed": false,
     "input": [
      "%%knitr\n",
      "seq(0,10,length=11)\n",
      "seq(0,10,by=2)"
     ],
     "language": "python",
     "metadata": {},
     "outputs": [
      {
       "output_type": "display_data",
       "text": [
        "    seq(0, 10, length = 11)\n",
        "\u0000"
       ]
      },
      {
       "output_type": "display_data",
       "text": [
        "    ##  [1]  0  1  2  3  4  5  6  7  8  9 10\n",
        "\u0000"
       ]
      },
      {
       "output_type": "display_data",
       "text": [
        "    seq(0, 10, by = 2)\n",
        "\u0000"
       ]
      },
      {
       "output_type": "display_data",
       "text": [
        "    ## [1]  0  2  4  6  8 10\n",
        "\u0000"
       ]
      }
     ],
     "prompt_number": 7
    },
    {
     "cell_type": "markdown",
     "metadata": {},
     "source": [
      "You can sort and order sequences"
     ]
    },
    {
     "cell_type": "code",
     "collapsed": false,
     "input": [
      "%%knitr\n",
      "X = c(4,6,2,9)\n",
      "sort(X)"
     ],
     "language": "python",
     "metadata": {},
     "outputs": [
      {
       "output_type": "display_data",
       "text": [
        "    X = c(4, 6, 2, 9)\n",
        "    sort(X)\n",
        "\u0000"
       ]
      },
      {
       "output_type": "display_data",
       "text": [
        "    ## [1] 2 4 6 9\n",
        "\u0000"
       ]
      }
     ],
     "prompt_number": 8
    },
    {
     "cell_type": "markdown",
     "metadata": {},
     "source": [
      "Use an ordering of X to sort a list of Y in the same order"
     ]
    },
    {
     "cell_type": "code",
     "collapsed": false,
     "input": [
      "%%knitr\n",
      "Y = c(1,2,3,4)\n",
      "o = order(X)\n",
      "X[o]\n",
      "Y[o]"
     ],
     "language": "python",
     "metadata": {},
     "outputs": [
      {
       "output_type": "display_data",
       "text": [
        "    Y = c(1, 2, 3, 4)\n",
        "    o = order(X)\n",
        "    X[o]\n",
        "\u0000"
       ]
      },
      {
       "output_type": "display_data",
       "text": [
        "    ## [1] 2 4 6 9\n",
        "\u0000"
       ]
      },
      {
       "output_type": "display_data",
       "text": [
        "    Y[o]\n",
        "\u0000"
       ]
      },
      {
       "output_type": "display_data",
       "text": [
        "    ## [1] 3 1 2 4\n",
        "\u0000"
       ]
      }
     ],
     "prompt_number": 9
    },
    {
     "cell_type": "heading",
     "level": 3,
     "metadata": {},
     "source": [
      "Plotting"
     ]
    },
    {
     "cell_type": "markdown",
     "metadata": {},
     "source": [
      "R has a very rich plotting library. Most of our plots will be\n",
      "fairly straightforward, \"scatter plots\".\n"
     ]
    },
    {
     "cell_type": "code",
     "collapsed": false,
     "input": [
      "%%knitr\n",
      "X = c(1:40)\n",
      "Y = 2 + 3 * X + rnorm(40) * 10\n",
      "plot(X, Y)\n"
     ],
     "language": "python",
     "metadata": {},
     "outputs": [
      {
       "output_type": "display_data",
       "text": [
        "    X = c(1:40)\n",
        "    Y = 2 + 3 * X + rnorm(40) * 10\n",
        "    plot(X, Y)\n",
        "\u0000"
       ]
      },
      {
       "output_type": "display_data",
       "png": "[encoded data removed]"
      }
     ],
     "prompt_number": 10
    },
    {
     "cell_type": "markdown",
     "metadata": {},
     "source": [
      "The plots can be made nicer by adding colors and using different symbols.\n",
      "See the help for function *par*.\n"
     ]
    },
    {
     "cell_type": "code",
     "collapsed": false,
     "input": [
      "%%knitr\n",
      "plot(X, Y, pch=21, bg='red')\n",
      "plot(X, Y, pch=23, bg='red')"
     ],
     "language": "python",
     "metadata": {},
     "outputs": [
      {
       "output_type": "display_data",
       "text": [
        "    plot(X, Y, pch = 21, bg = \"red\")\n",
        "\u0000"
       ]
      },
      {
       "output_type": "display_data",
       "png": "[encoded data removed]"
      },
      {
       "output_type": "display_data",
       "text": [
        "    plot(X, Y, pch = 23, bg = \"red\")\n",
        "\u0000"
       ]
      },
      {
       "output_type": "display_data",
       "png": "[encoded data removed]"
      }
     ],
     "prompt_number": 11
    },
    {
     "cell_type": "markdown",
     "metadata": {},
     "source": [
      "You can add titles, as well as change the axis labels."
     ]
    },
    {
     "cell_type": "code",
     "collapsed": false,
     "input": [
      "%%knitr\n",
      "plot(X, Y, pch=23, bg='red', main='A simulated data set', xlab='Predictor', ylab='Outcome')"
     ],
     "language": "python",
     "metadata": {},
     "outputs": [
      {
       "output_type": "display_data",
       "text": [
        "    plot(X, Y, pch = 23, bg = \"red\", main = \"A simulated data set\", xlab = \"Predictor\", \n",
        "        ylab = \"Outcome\")\n",
        "\u0000"
       ]
      },
      {
       "output_type": "display_data",
       "png": "[encoded data removed]"
      }
     ],
     "prompt_number": 12
    },
    {
     "cell_type": "markdown",
     "metadata": {},
     "source": [
      "Lines are added with *abline*. We'll add some lines to our previous plot: a yellow line with\n",
      "intercept 2, slope 3, width 3, type 2, as well as a vertical line at x=20 and horizontal line at y=60."
     ]
    },
    {
     "cell_type": "code",
     "collapsed": false,
     "input": [
      "%%knitr\n",
      "plot(X, Y, pch=23, bg='red', main='A simulated data set', xlab='Predictor', ylab='Outcome')\n",
      "abline(2, 3, lwd=3, lty=2, col='yellow') \n",
      "abline(h=60)   \n",
      "abline(v=20)"
     ],
     "language": "python",
     "metadata": {},
     "outputs": [
      {
       "output_type": "display_data",
       "text": [
        "    plot(X, Y, pch = 23, bg = \"red\", main = \"A simulated data set\", xlab = \"Predictor\", \n",
        "        ylab = \"Outcome\")\n",
        "    abline(2, 3, lwd = 3, lty = 2, col = \"yellow\")\n",
        "    abline(h = 60)\n",
        "    abline(v = 20)\n",
        "\u0000"
       ]
      },
      {
       "output_type": "display_data",
       "png": "[encoded data removed]"
      }
     ],
     "prompt_number": 13
    },
    {
     "cell_type": "markdown",
     "metadata": {},
     "source": [
      "You can add points and lines to existing plots."
     ]
    },
    {
     "cell_type": "code",
     "collapsed": false,
     "input": [
      "%%knitr\n",
      "plot(X[1:20], Y[1:20], pch=21, bg='red', xlim=c(min(X),max(X)), ylim=c(min(Y),max(Y)))\n",
      "points(X[21:40], Y[21:40], pch=21, bg='blue')        \n",
      "lines(X[21:40], Y[21:40], lwd=2, lty=3, col='orange')   "
     ],
     "language": "python",
     "metadata": {},
     "outputs": [
      {
       "output_type": "display_data",
       "text": [
        "    plot(X[1:20], Y[1:20], pch = 21, bg = \"red\", xlim = c(min(X), max(X)), ylim = c(min(Y), \n",
        "        max(Y)))\n",
        "    points(X[21:40], Y[21:40], pch = 21, bg = \"blue\")\n",
        "    lines(X[21:40], Y[21:40], lwd = 2, lty = 3, col = \"orange\")\n",
        "\u0000"
       ]
      },
      {
       "output_type": "display_data",
       "png": "[encoded data removed]"
      }
     ],
     "prompt_number": 14
    },
    {
     "cell_type": "markdown",
     "metadata": {},
     "source": [
      "You can put more than one plot on each device. Here we create\n",
      "a 2-by-1 grid of plots"
     ]
    },
    {
     "cell_type": "code",
     "collapsed": false,
     "input": [
      "%%knitr\n",
      "par(mfrow=c(2,1))\n",
      "plot(X, Y, pch=21, bg='red')\n",
      "plot(Y, X, pch=23, bg='blue')\n",
      "par(mfrow=c(1,1))"
     ],
     "language": "python",
     "metadata": {},
     "outputs": [
      {
       "output_type": "display_data",
       "text": [
        "    par(mfrow = c(2, 1))\n",
        "    plot(X, Y, pch = 21, bg = \"red\")\n",
        "    plot(Y, X, pch = 23, bg = \"blue\")\n",
        "\u0000"
       ]
      },
      {
       "output_type": "display_data",
       "png": "[encoded data removed]"
      },
      {
       "output_type": "display_data",
       "text": [
        "    par(mfrow = c(1, 1))\n",
        "\u0000"
       ]
      }
     ],
     "prompt_number": 15
    },
    {
     "cell_type": "heading",
     "level": 3,
     "metadata": {},
     "source": [
      "Saving plots"
     ]
    },
    {
     "cell_type": "markdown",
     "metadata": {},
     "source": [
      "Plots can be saved as *pdf*, *png*, *jpg* among other formats.\n",
      "Let's save a plot in a file called \"myplot.jpg\"\n",
      "\n",
      "    jpeg(\"myplot.jpg\")\n",
      "    plot(X, Y, pch=21, bg='red')\n",
      "    dev.off()\n",
      "\n",
      "Several plots can be saved using *pdf* files. This example has\n",
      "two plots in it.\n",
      "\n",
      "    pdf(\"myplots.pdf\")\n",
      "\n",
      "    # make whatever plot you want\n",
      "    # first page\n",
      "    plot(X, Y, pch=21, bg='red')\n",
      "\n",
      "    # a new call to plot will make a new page\n",
      "    plot(Y, X, pch=23, bg='blue')\n",
      "\n",
      "    # close the current \"device\" which is this pdf file\n",
      "    dev.off()\n",
      "\n",
      "This should cover a lot of our plotting needs."
     ]
    },
    {
     "cell_type": "heading",
     "level": 3,
     "metadata": {},
     "source": [
      "Loops"
     ]
    },
    {
     "cell_type": "markdown",
     "metadata": {},
     "source": [
      "It is easy to use *for* loops in R"
     ]
    },
    {
     "cell_type": "code",
     "collapsed": false,
     "input": [
      "%%knitr\n",
      "for (i in 1:10) {\n",
      "    print(i^2)\n",
      "}"
     ],
     "language": "python",
     "metadata": {},
     "outputs": [
      {
       "output_type": "display_data",
       "text": [
        "    for (i in 1:10) {\n",
        "        print(i^2)\n",
        "    }\n",
        "\u0000"
       ]
      },
      {
       "output_type": "display_data",
       "text": [
        "    ## [1] 1\n",
        "    ## [1] 4\n",
        "    ## [1] 9\n",
        "    ## [1] 16\n",
        "    ## [1] 25\n",
        "    ## [1] 36\n",
        "    ## [1] 49\n",
        "    ## [1] 64\n",
        "    ## [1] 81\n",
        "    ## [1] 100\n",
        "\u0000"
       ]
      }
     ],
     "prompt_number": 16
    },
    {
     "cell_type": "code",
     "collapsed": false,
     "input": [
      "%%knitr\n",
      "for (w in c('red', 'blue', 'green')) {\n",
      "    print(w)\n",
      "}"
     ],
     "language": "python",
     "metadata": {},
     "outputs": [
      {
       "output_type": "display_data",
       "text": [
        "    for (w in c(\"red\", \"blue\", \"green\")) {\n",
        "        print(w)\n",
        "    }\n",
        "\u0000"
       ]
      },
      {
       "output_type": "display_data",
       "text": [
        "    ## [1] \"red\"\n",
        "    ## [1] \"blue\"\n",
        "    ## [1] \"green\"\n",
        "\u0000"
       ]
      }
     ],
     "prompt_number": 17
    },
    {
     "cell_type": "markdown",
     "metadata": {},
     "source": [
      "Note that big loops can get really slow, a\n",
      "drawback of many high-level languages."
     ]
    },
    {
     "cell_type": "heading",
     "level": 3,
     "metadata": {},
     "source": [
      "Builtin help"
     ]
    },
    {
     "cell_type": "markdown",
     "metadata": {},
     "source": [
      "R has a builtin help system, which can be accessed and searched as follows\n",
      "\n",
      "    > help(t.test)\n",
      "    > help.search('t.test')\n",
      "\n",
      "Many objects also have examples that show you their usage\n",
      "\n",
      "    > example(lm)"
     ]
    },
    {
     "cell_type": "heading",
     "level": 3,
     "metadata": {},
     "source": [
      "Distributions in R"
     ]
    },
    {
     "cell_type": "markdown",
     "metadata": {},
     "source": [
      "In practice, we will often be using the distribution (CDF), quantile (inverse\n",
      "CDF) of standard random variables like the *T*, *F*, chi-squared and normal.\n",
      "\n",
      "\n",
      "The standard 1.96 (about 2) standard deviation rule for $\\alpha=0.05$:\n",
      "(note that 1-0.05/2=0.975)\n"
     ]
    },
    {
     "cell_type": "code",
     "collapsed": false,
     "input": [
      "%%knitr\n",
      "qnorm(0.975)"
     ],
     "language": "python",
     "metadata": {},
     "outputs": [
      {
       "output_type": "display_data",
       "text": [
        "    qnorm(0.975)\n",
        "\u0000"
       ]
      },
      {
       "output_type": "display_data",
       "text": [
        "    ## [1] 1.96\n",
        "\u0000"
       ]
      }
     ],
     "prompt_number": 18
    },
    {
     "cell_type": "markdown",
     "metadata": {},
     "source": [
      "We might want the $\\alpha=0.05$ upper quantile for an F with 2,40 degrees of \n",
      "freedom:"
     ]
    },
    {
     "cell_type": "code",
     "collapsed": false,
     "input": [
      "%%knitr\n",
      "qf(0.95, 2, 40)"
     ],
     "language": "python",
     "metadata": {},
     "outputs": [
      {
       "output_type": "display_data",
       "text": [
        "    qf(0.95, 2, 40)\n",
        "\u0000"
       ]
      },
      {
       "output_type": "display_data",
       "text": [
        "    ## [1] 3.232\n",
        "\u0000"
       ]
      }
     ],
     "prompt_number": 19
    },
    {
     "cell_type": "markdown",
     "metadata": {},
     "source": [
      "So, any observed F greater than 3.23 will get rejected at the $\\alpha=0.05$ level.\n",
      "Alternatively, we might have observed an F of 5 with\n",
      "2, 40 degrees of freedom, and want the p-value"
     ]
    },
    {
     "cell_type": "code",
     "collapsed": false,
     "input": [
      "%%knitr\n",
      "1 - pf(5, 2, 40)"
     ],
     "language": "python",
     "metadata": {},
     "outputs": [
      {
       "output_type": "display_data",
       "text": [
        "    1 - pf(5, 2, 40)\n",
        "\u0000"
       ]
      },
      {
       "output_type": "display_data",
       "text": [
        "    ## [1] 0.01153\n",
        "\u0000"
       ]
      }
     ],
     "prompt_number": 20
    },
    {
     "cell_type": "markdown",
     "metadata": {},
     "source": [
      "Let's compare this p-value with a \n",
      "chi-squared with 2 degrees of freedom,\n",
      "which is like an F with infinite\n",
      "degrees of freedom in the denominator (send 40 to infinity).\n",
      "We also should multiply the 5 by 2\n",
      "because it's divided by 2 (numerator\n",
      "degrees of freedom) in the F."
     ]
    },
    {
     "cell_type": "code",
     "collapsed": false,
     "input": [
      "%%knitr\n",
      "1 - pchisq(5*2, 2)\n",
      "1 - pf(5, 2, 400)"
     ],
     "language": "python",
     "metadata": {},
     "outputs": [
      {
       "output_type": "display_data",
       "text": [
        "    1 - pchisq(5 * 2, 2)\n",
        "\u0000"
       ]
      },
      {
       "output_type": "display_data",
       "text": [
        "    ## [1] 0.006738\n",
        "\u0000"
       ]
      },
      {
       "output_type": "display_data",
       "text": [
        "    1 - pf(5, 2, 400)\n",
        "\u0000"
       ]
      },
      {
       "output_type": "display_data",
       "text": [
        "    ## [1] 0.007165\n",
        "\u0000"
       ]
      }
     ],
     "prompt_number": 21
    },
    {
     "cell_type": "markdown",
     "metadata": {},
     "source": [
      "Other common distributions used in applied statistics are *norm*, *t*."
     ]
    },
    {
     "cell_type": "heading",
     "level": 3,
     "metadata": {},
     "source": [
      "Other references"
     ]
    },
    {
     "cell_type": "markdown",
     "metadata": {},
     "source": [
      "* [An Introduction to R](http://cran.r-project.org/doc/manuals/R-intro.pdf)\n",
      "  \n",
      "* [R for Beginners](http://cran.r-project.org/doc/contrib/Paradis-rdebuts_en.pdf)\n",
      "\n",
      "* [Using R for Introductory Statistics](http://books.google.com/booksid=jwolc192c5kC&dq=using+r+for+introductory+statistics)\n",
      "\n",
      "* [Modern Applied Statistics with S](http://www.stats.ox.ac.uk/pub/MASS4/)\n",
      "\n",
      "* [Practical  ANOVA and Regression in R](http://cran.r-project.org/doc/contrib/Faraway-PRA.pdf)\n",
      "\n",
      "* [simpleR](http://cran.r-project.org/doc/contrib/Verzani-SimpleR.pdf)\n",
      "\n",
      "* [Introduction to R](http://stat-www.berkeley.edu/~spector/Rcourse.pdf)\n",
      "\n",
      "* [R Reference Card](http://cran.r-project.org/doc/contrib/Short-refcard.pdf)\n",
      "\n",
      "* [R Manuals](http://cran.r-project.org/manuals.html)\n",
      "\n",
      "* [R Wiki](http://wiki.r-project.org/)\n",
      "\n"
     ]
    },
    {
     "cell_type": "code",
     "collapsed": false,
     "input": [],
     "language": "python",
     "metadata": {},
     "outputs": [],
     "prompt_number": 21
    }
   ],
   "metadata": {}
  }
 ]
}